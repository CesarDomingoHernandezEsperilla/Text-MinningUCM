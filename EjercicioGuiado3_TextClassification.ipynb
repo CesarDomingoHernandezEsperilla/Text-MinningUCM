{
 "cells": [
  {
   "cell_type": "code",
   "execution_count": null,
   "metadata": {
    "colab": {
     "base_uri": "https://localhost:8080/"
    },
    "id": "LV8gF0hTNj5y",
    "outputId": "1322d95d-26ee-46a8-8d34-1bb403c67ef6"
   },
   "outputs": [
    {
     "name": "stdout",
     "output_type": "stream",
     "text": [
      "--2021-06-04 18:37:36--  https://github.com/luisgasco/ntic_master_datos/raw/main/datasets/fake_news_2_classification.csv\n",
      "Resolving github.com (github.com)... 140.82.112.3\n",
      "Connecting to github.com (github.com)|140.82.112.3|:443... connected.\n",
      "HTTP request sent, awaiting response... 302 Found\n",
      "Location: https://raw.githubusercontent.com/luisgasco/ntic_master_datos/main/datasets/fake_news_2_classification.csv [following]\n",
      "--2021-06-04 18:37:37--  https://raw.githubusercontent.com/luisgasco/ntic_master_datos/main/datasets/fake_news_2_classification.csv\n",
      "Resolving raw.githubusercontent.com (raw.githubusercontent.com)... 185.199.109.133, 185.199.108.133, 185.199.111.133, ...\n",
      "Connecting to raw.githubusercontent.com (raw.githubusercontent.com)|185.199.109.133|:443... connected.\n",
      "HTTP request sent, awaiting response... 200 OK\n",
      "Length: 3867470 (3.7M) [text/plain]\n",
      "Saving to: ‘fake_news_2_classification.csv’\n",
      "\n",
      "fake_news_2_classif 100%[===================>]   3.69M  --.-KB/s    in 0.1s    \n",
      "\n",
      "2021-06-04 18:37:37 (26.2 MB/s) - ‘fake_news_2_classification.csv’ saved [3867470/3867470]\n",
      "\n",
      "[nltk_data] Downloading package stopwords to /root/nltk_data...\n",
      "[nltk_data]   Unzipping corpora/stopwords.zip.\n",
      "[nltk_data] Downloading package punkt to /root/nltk_data...\n",
      "[nltk_data]   Unzipping tokenizers/punkt.zip.\n",
      "[nltk_data] Downloading package wordnet to /root/nltk_data...\n",
      "[nltk_data]   Unzipping corpora/wordnet.zip.\n",
      "[nltk_data] Downloading package averaged_perceptron_tagger to\n",
      "[nltk_data]     /root/nltk_data...\n",
      "[nltk_data]   Unzipping taggers/averaged_perceptron_tagger.zip.\n",
      "Collecting contractions\n",
      "  Downloading https://files.pythonhosted.org/packages/11/4d/378ab91284c2c3a06ab475b287721c09b7951d5ecb3edf4ffb0e1e7a568a/contractions-0.0.49-py2.py3-none-any.whl\n",
      "Collecting textsearch>=0.0.21\n",
      "  Downloading https://files.pythonhosted.org/packages/d3/fe/021d7d76961b5ceb9f8d022c4138461d83beff36c3938dc424586085e559/textsearch-0.0.21-py2.py3-none-any.whl\n",
      "Collecting pyahocorasick\n",
      "\u001b[?25l  Downloading https://files.pythonhosted.org/packages/7f/c2/eae730037ae1cbbfaa229d27030d1d5e34a1e41114b21447d1202ae9c220/pyahocorasick-1.4.2.tar.gz (321kB)\n",
      "\u001b[K     |████████████████████████████████| 327kB 5.4MB/s \n",
      "\u001b[?25hCollecting anyascii\n",
      "\u001b[?25l  Downloading https://files.pythonhosted.org/packages/a3/14/666cd44bf53f36a961544af592cb5c5c800013f9c51a4745af8d7c17362a/anyascii-0.2.0-py3-none-any.whl (283kB)\n",
      "\u001b[K     |████████████████████████████████| 286kB 27.4MB/s \n",
      "\u001b[?25hBuilding wheels for collected packages: pyahocorasick\n",
      "  Building wheel for pyahocorasick (setup.py) ... \u001b[?25l\u001b[?25hdone\n",
      "  Created wheel for pyahocorasick: filename=pyahocorasick-1.4.2-cp37-cp37m-linux_x86_64.whl size=85407 sha256=e142fa3800eb4aef0a744eff76abc586eaf7903ef059b091480f4bb73ae9b90c\n",
      "  Stored in directory: /root/.cache/pip/wheels/3a/03/34/77e3ece0bba8b86bfac88a79f923b36d805cad63caeba38842\n",
      "Successfully built pyahocorasick\n",
      "Installing collected packages: pyahocorasick, anyascii, textsearch, contractions\n",
      "Successfully installed anyascii-0.2.0 contractions-0.0.49 pyahocorasick-1.4.2 textsearch-0.0.21\n",
      "Requirement already satisfied: spacy in /usr/local/lib/python3.7/dist-packages (2.2.4)\n",
      "Requirement already satisfied: murmurhash<1.1.0,>=0.28.0 in /usr/local/lib/python3.7/dist-packages (from spacy) (1.0.5)\n",
      "Requirement already satisfied: setuptools in /usr/local/lib/python3.7/dist-packages (from spacy) (57.0.0)\n",
      "Requirement already satisfied: blis<0.5.0,>=0.4.0 in /usr/local/lib/python3.7/dist-packages (from spacy) (0.4.1)\n",
      "Requirement already satisfied: wasabi<1.1.0,>=0.4.0 in /usr/local/lib/python3.7/dist-packages (from spacy) (0.8.2)\n",
      "Requirement already satisfied: cymem<2.1.0,>=2.0.2 in /usr/local/lib/python3.7/dist-packages (from spacy) (2.0.5)\n",
      "Requirement already satisfied: tqdm<5.0.0,>=4.38.0 in /usr/local/lib/python3.7/dist-packages (from spacy) (4.41.1)\n",
      "Requirement already satisfied: catalogue<1.1.0,>=0.0.7 in /usr/local/lib/python3.7/dist-packages (from spacy) (1.0.0)\n",
      "Requirement already satisfied: requests<3.0.0,>=2.13.0 in /usr/local/lib/python3.7/dist-packages (from spacy) (2.23.0)\n",
      "Requirement already satisfied: srsly<1.1.0,>=1.0.2 in /usr/local/lib/python3.7/dist-packages (from spacy) (1.0.5)\n",
      "Requirement already satisfied: numpy>=1.15.0 in /usr/local/lib/python3.7/dist-packages (from spacy) (1.19.5)\n",
      "Requirement already satisfied: thinc==7.4.0 in /usr/local/lib/python3.7/dist-packages (from spacy) (7.4.0)\n",
      "Requirement already satisfied: plac<1.2.0,>=0.9.6 in /usr/local/lib/python3.7/dist-packages (from spacy) (1.1.3)\n",
      "Requirement already satisfied: preshed<3.1.0,>=3.0.2 in /usr/local/lib/python3.7/dist-packages (from spacy) (3.0.5)\n",
      "Requirement already satisfied: importlib-metadata>=0.20; python_version < \"3.8\" in /usr/local/lib/python3.7/dist-packages (from catalogue<1.1.0,>=0.0.7->spacy) (4.0.1)\n",
      "Requirement already satisfied: idna<3,>=2.5 in /usr/local/lib/python3.7/dist-packages (from requests<3.0.0,>=2.13.0->spacy) (2.10)\n",
      "Requirement already satisfied: chardet<4,>=3.0.2 in /usr/local/lib/python3.7/dist-packages (from requests<3.0.0,>=2.13.0->spacy) (3.0.4)\n",
      "Requirement already satisfied: urllib3!=1.25.0,!=1.25.1,<1.26,>=1.21.1 in /usr/local/lib/python3.7/dist-packages (from requests<3.0.0,>=2.13.0->spacy) (1.24.3)\n",
      "Requirement already satisfied: certifi>=2017.4.17 in /usr/local/lib/python3.7/dist-packages (from requests<3.0.0,>=2.13.0->spacy) (2020.12.5)\n",
      "Requirement already satisfied: typing-extensions>=3.6.4; python_version < \"3.8\" in /usr/local/lib/python3.7/dist-packages (from importlib-metadata>=0.20; python_version < \"3.8\"->catalogue<1.1.0,>=0.0.7->spacy) (3.7.4.3)\n",
      "Requirement already satisfied: zipp>=0.5 in /usr/local/lib/python3.7/dist-packages (from importlib-metadata>=0.20; python_version < \"3.8\"->catalogue<1.1.0,>=0.0.7->spacy) (3.4.1)\n",
      "Collecting es_core_news_sm==2.2.5\n",
      "\u001b[?25l  Downloading https://github.com/explosion/spacy-models/releases/download/es_core_news_sm-2.2.5/es_core_news_sm-2.2.5.tar.gz (16.2MB)\n",
      "\u001b[K     |████████████████████████████████| 16.2MB 5.2MB/s \n",
      "\u001b[?25hRequirement already satisfied: spacy>=2.2.2 in /usr/local/lib/python3.7/dist-packages (from es_core_news_sm==2.2.5) (2.2.4)\n",
      "Requirement already satisfied: requests<3.0.0,>=2.13.0 in /usr/local/lib/python3.7/dist-packages (from spacy>=2.2.2->es_core_news_sm==2.2.5) (2.23.0)\n",
      "Requirement already satisfied: numpy>=1.15.0 in /usr/local/lib/python3.7/dist-packages (from spacy>=2.2.2->es_core_news_sm==2.2.5) (1.19.5)\n",
      "Requirement already satisfied: blis<0.5.0,>=0.4.0 in /usr/local/lib/python3.7/dist-packages (from spacy>=2.2.2->es_core_news_sm==2.2.5) (0.4.1)\n",
      "Requirement already satisfied: wasabi<1.1.0,>=0.4.0 in /usr/local/lib/python3.7/dist-packages (from spacy>=2.2.2->es_core_news_sm==2.2.5) (0.8.2)\n",
      "Requirement already satisfied: tqdm<5.0.0,>=4.38.0 in /usr/local/lib/python3.7/dist-packages (from spacy>=2.2.2->es_core_news_sm==2.2.5) (4.41.1)\n",
      "Requirement already satisfied: cymem<2.1.0,>=2.0.2 in /usr/local/lib/python3.7/dist-packages (from spacy>=2.2.2->es_core_news_sm==2.2.5) (2.0.5)\n",
      "Requirement already satisfied: murmurhash<1.1.0,>=0.28.0 in /usr/local/lib/python3.7/dist-packages (from spacy>=2.2.2->es_core_news_sm==2.2.5) (1.0.5)\n",
      "Requirement already satisfied: preshed<3.1.0,>=3.0.2 in /usr/local/lib/python3.7/dist-packages (from spacy>=2.2.2->es_core_news_sm==2.2.5) (3.0.5)\n",
      "Requirement already satisfied: plac<1.2.0,>=0.9.6 in /usr/local/lib/python3.7/dist-packages (from spacy>=2.2.2->es_core_news_sm==2.2.5) (1.1.3)\n",
      "Requirement already satisfied: srsly<1.1.0,>=1.0.2 in /usr/local/lib/python3.7/dist-packages (from spacy>=2.2.2->es_core_news_sm==2.2.5) (1.0.5)\n",
      "Requirement already satisfied: setuptools in /usr/local/lib/python3.7/dist-packages (from spacy>=2.2.2->es_core_news_sm==2.2.5) (57.0.0)\n",
      "Requirement already satisfied: catalogue<1.1.0,>=0.0.7 in /usr/local/lib/python3.7/dist-packages (from spacy>=2.2.2->es_core_news_sm==2.2.5) (1.0.0)\n",
      "Requirement already satisfied: thinc==7.4.0 in /usr/local/lib/python3.7/dist-packages (from spacy>=2.2.2->es_core_news_sm==2.2.5) (7.4.0)\n",
      "Requirement already satisfied: idna<3,>=2.5 in /usr/local/lib/python3.7/dist-packages (from requests<3.0.0,>=2.13.0->spacy>=2.2.2->es_core_news_sm==2.2.5) (2.10)\n",
      "Requirement already satisfied: chardet<4,>=3.0.2 in /usr/local/lib/python3.7/dist-packages (from requests<3.0.0,>=2.13.0->spacy>=2.2.2->es_core_news_sm==2.2.5) (3.0.4)\n",
      "Requirement already satisfied: certifi>=2017.4.17 in /usr/local/lib/python3.7/dist-packages (from requests<3.0.0,>=2.13.0->spacy>=2.2.2->es_core_news_sm==2.2.5) (2020.12.5)\n",
      "Requirement already satisfied: urllib3!=1.25.0,!=1.25.1,<1.26,>=1.21.1 in /usr/local/lib/python3.7/dist-packages (from requests<3.0.0,>=2.13.0->spacy>=2.2.2->es_core_news_sm==2.2.5) (1.24.3)\n",
      "Requirement already satisfied: importlib-metadata>=0.20; python_version < \"3.8\" in /usr/local/lib/python3.7/dist-packages (from catalogue<1.1.0,>=0.0.7->spacy>=2.2.2->es_core_news_sm==2.2.5) (4.0.1)\n",
      "Requirement already satisfied: typing-extensions>=3.6.4; python_version < \"3.8\" in /usr/local/lib/python3.7/dist-packages (from importlib-metadata>=0.20; python_version < \"3.8\"->catalogue<1.1.0,>=0.0.7->spacy>=2.2.2->es_core_news_sm==2.2.5) (3.7.4.3)\n",
      "Requirement already satisfied: zipp>=0.5 in /usr/local/lib/python3.7/dist-packages (from importlib-metadata>=0.20; python_version < \"3.8\"->catalogue<1.1.0,>=0.0.7->spacy>=2.2.2->es_core_news_sm==2.2.5) (3.4.1)\n",
      "Building wheels for collected packages: es-core-news-sm\n",
      "  Building wheel for es-core-news-sm (setup.py) ... \u001b[?25l\u001b[?25hdone\n",
      "  Created wheel for es-core-news-sm: filename=es_core_news_sm-2.2.5-cp37-none-any.whl size=16172935 sha256=028dcda6f1581818e193beb3990aecd1ff9132e05a9349211193549c096eba65\n",
      "  Stored in directory: /tmp/pip-ephem-wheel-cache-t6b5r_5k/wheels/05/4f/66/9d0c806f86de08e8645d67996798c49e1512f9c3a250d74242\n",
      "Successfully built es-core-news-sm\n",
      "Installing collected packages: es-core-news-sm\n",
      "Successfully installed es-core-news-sm-2.2.5\n",
      "\u001b[38;5;2m✔ Download and installation successful\u001b[0m\n",
      "You can now load the model via spacy.load('es_core_news_sm')\n"
     ]
    }
   ],
   "source": [
    "!wget https://github.com/luisgasco/ntic_master_datos/raw/main/datasets/fake_news_2_classification.csv\n",
    "import nltk\n",
    "nltk.download('stopwords')\n",
    "nltk.download('punkt')\n",
    "nltk.download('wordnet')\n",
    "nltk.download('averaged_perceptron_tagger')\n",
    "import sys  \n",
    "!{sys.executable} -m pip install contractions\n",
    "\n",
    "!pip install spacy\n",
    "!python -m spacy download es_core_news_sm\n",
    "\n"
   ]
  },
  {
   "cell_type": "markdown",
   "metadata": {
    "id": "GO9Us5x9DOXL"
   },
   "source": [
    ""
   ]
  },
  {
   "cell_type": "markdown",
   "metadata": {
    "id": "mira_hMw4qpY"
   },
   "source": [
    "# Imports"
   ]
  },
  {
   "cell_type": "code",
   "execution_count": null,
   "metadata": {
    "colab": {
     "base_uri": "https://localhost:8080/"
    },
    "id": "gbR46qBrXc9_",
    "outputId": "16f1d4e7-fee1-42c1-e198-639990484417"
   },
   "outputs": [
    {
     "name": "stderr",
     "output_type": "stream",
     "text": [
      "/usr/local/lib/python3.7/dist-packages/ipykernel_launcher.py:11: TqdmExperimentalWarning: Using `tqdm.autonotebook.tqdm` in notebook mode. Use `tqdm.tqdm` instead to force console mode (e.g. in jupyter console)\n",
      "  # This is added back by InteractiveShellApp.init_path()\n",
      "/usr/local/lib/python3.7/dist-packages/tqdm/std.py:658: FutureWarning: The Panel class is removed from pandas. Accessing it from the top-level namespace will also be removed in the next version\n",
      "  from pandas import Panel\n"
     ]
    }
   ],
   "source": [
    "import matplotlib.pyplot as plt\n",
    "import numpy as np\n",
    "import pandas as pd\n",
    "import seaborn as sns\n",
    "from wordcloud import WordCloud\n",
    "import string \n",
    "import re \n",
    "import contractions \n",
    "from nltk.stem.wordnet import WordNetLemmatizer\n",
    "from nltk import word_tokenize, pos_tag\n",
    "from tqdm.autonotebook import tqdm\n",
    "tqdm.pandas()\n",
    "\n",
    "from sklearn.feature_extraction.text import TfidfVectorizer\n",
    "from sklearn.linear_model import LogisticRegression\n",
    "from sklearn.model_selection import train_test_split\n",
    "from sklearn.metrics import f1_score, confusion_matrix\n",
    "from sklearn.metrics import classification_report"
   ]
  },
  {
   "cell_type": "markdown",
   "metadata": {
    "id": "c2u2ki304whZ"
   },
   "source": [
    "# Cargar y preparar los datos\n"
   ]
  },
  {
   "cell_type": "markdown",
   "metadata": {
    "id": "BrPma8LSWVJI"
   },
   "source": [
    "En primer lugar, cargaremos la base de datos descarga anteriormente con titulares de noticias falsas y noticias verdaderas"
   ]
  },
  {
   "cell_type": "code",
   "execution_count": null,
   "metadata": {
    "id": "l8qGBUg3N5op"
   },
   "outputs": [],
   "source": [
    "# Leer el dataset con pandas read_csv (separador \\t)\n",
    "dataset = ______________________"
   ]
  },
  {
   "cell_type": "code",
   "execution_count": null,
   "metadata": {
    "id": "NtZc2I-KXouT"
   },
   "outputs": [],
   "source": [
    "dataset"
   ]
  },
  {
   "cell_type": "markdown",
   "metadata": {
    "id": "4x31KMIzXzkW"
   },
   "source": [
    "Vamos a comprobar el tamaño del dataset:"
   ]
  },
  {
   "cell_type": "code",
   "execution_count": null,
   "metadata": {
    "colab": {
     "base_uri": "https://localhost:8080/"
    },
    "id": "8cMr_JLnXyLv",
    "outputId": "7dc27d88-f83e-401e-8a20-6daba36836ef"
   },
   "outputs": [
    {
     "name": "stdout",
     "output_type": "stream",
     "text": [
      "Tenemos un conjunto de 59601 documentos\n"
     ]
    }
   ],
   "source": [
    "print(\"Tenemos un conjunto de {} documentos\".format(________________))\n"
   ]
  },
  {
   "cell_type": "code",
   "execution_count": null,
   "metadata": {
    "colab": {
     "base_uri": "https://localhost:8080/"
    },
    "id": "Y0ucBSt8UjhS",
    "outputId": "b88da4b1-4d60-4b13-9b59-10a39194f930"
   },
   "outputs": [
    {
     "name": "stdout",
     "output_type": "stream",
     "text": [
      "El dataframe tiene 2 columnas\n"
     ]
    }
   ],
   "source": [
    "print(\"El dataframe tiene {} columnas\".format(______________________________)) # Ayuda: con dataset.shape"
   ]
  },
  {
   "cell_type": "markdown",
   "metadata": {
    "id": "yUMrCNQLWnER"
   },
   "source": [
    "Despues, quitaremos las filsa con algún valor vacío (NA) y quitaremos los duplicados."
   ]
  },
  {
   "cell_type": "code",
   "execution_count": null,
   "metadata": {
    "colab": {
     "base_uri": "https://localhost:8080/"
    },
    "id": "RlTJyjagXNIK",
    "outputId": "a96a16b7-be06-4659-9afa-1dce68dddc4c"
   },
   "outputs": [
    {
     "name": "stdout",
     "output_type": "stream",
     "text": [
      "Existen 30 noticias duplicadas\n"
     ]
    }
   ],
   "source": [
    "print(\"Existen {} noticias duplicadas\".format(np.sum(__________________________))))"
   ]
  },
  {
   "cell_type": "code",
   "execution_count": null,
   "metadata": {
    "colab": {
     "base_uri": "https://localhost:8080/"
    },
    "id": "VvuOyay_bqgN",
    "outputId": "8682b8e4-8bb3-4a36-e9e1-71667bccc418"
   },
   "outputs": [
    {
     "name": "stdout",
     "output_type": "stream",
     "text": [
      "Despues de quitar duplicados tenemos un conjunto de 59571 noticias\n"
     ]
    }
   ],
   "source": [
    "# Quitaremos esos duplicados\n",
    "dataset = dataset.drop_duplicates()\n",
    "print(\"Despues de quitar duplicados tenemos un conjunto de {} noticias\".format(_____________________))"
   ]
  },
  {
   "cell_type": "markdown",
   "metadata": {
    "id": "GR2fqxu6WrGo"
   },
   "source": [
    "Despues de esto, comprobaramos que no hayan quedado Nulls en ningunas de las dos columnas del dataset"
   ]
  },
  {
   "cell_type": "code",
   "execution_count": null,
   "metadata": {
    "colab": {
     "base_uri": "https://localhost:8080/"
    },
    "id": "aEvobTAsXmMy",
    "outputId": "ff0530be-63d9-418a-e3be-3c95aef63828"
   },
   "outputs": [
    {
     "name": "stdout",
     "output_type": "stream",
     "text": [
      "Hay 0 valores vacíos en las noticias y 0 valores vacíos en las etiquetas en los datos\n"
     ]
    }
   ],
   "source": [
    "print(\"Hay {} valores vacíos en las noticias y {} valores vacíos en las etiquetas en los datos\".format(np.sum(dataset.isnull())[0],\n",
    "                                                                                                        np.sum(dataset.isnull())[1]))"
   ]
  },
  {
   "cell_type": "markdown",
   "metadata": {
    "id": "U9M2CFTA46Nb"
   },
   "source": [
    "# Análisis preliminar"
   ]
  },
  {
   "cell_type": "markdown",
   "metadata": {
    "id": "sPncriAr5XbR"
   },
   "source": [
    "## Etiquetas"
   ]
  },
  {
   "cell_type": "markdown",
   "metadata": {
    "id": "Osrak1RgZz-q"
   },
   "source": [
    "Vamos a comprobar el número de etiquetas de cada clase en la columna \"fake\", la columna correpondiente a lasetiquetas."
   ]
  },
  {
   "cell_type": "code",
   "execution_count": null,
   "metadata": {
    "colab": {
     "base_uri": "https://localhost:8080/"
    },
    "id": "qqNGRDTwXWeq",
    "outputId": "2508e7f5-6722-4749-d35e-80687d5fb65e"
   },
   "outputs": [
    {
     "data": {
      "text/plain": [
       "0    30000\n",
       "1    29571\n",
       "Name: fake, dtype: int64"
      ]
     },
     "execution_count": 11,
     "metadata": {
      "tags": []
     },
     "output_type": "execute_result"
    }
   ],
   "source": [
    "dataset[\"fake\"].____________________________"
   ]
  },
  {
   "cell_type": "markdown",
   "metadata": {
    "id": "OvLsb-_gaFyH"
   },
   "source": [
    "¡¡Tenemos un dataset balanceado!! Esto nos evitará problemas en el entrenamiento de los modelos😀. \n",
    "\n",
    "Disponemos 30000 noticias verdaderas (valor 0) y 29571 noticias falsas (valor 1).\n",
    "\n",
    "Vamos a dibujar un histograma con las clases así practicamos:"
   ]
  },
  {
   "cell_type": "code",
   "execution_count": null,
   "metadata": {
    "colab": {
     "base_uri": "https://localhost:8080/"
    },
    "id": "imbF43WHaFOz",
    "outputId": "22283ed1-3615-41b7-9635-75a51b555f06"
   },
   "outputs": [
    {
     "data": {
      "image/png": "[encoded data removed]",
      "text/plain": [
       "<Figure size 432x288 with 1 Axes>"
      ]
     },
     "metadata": {
      "needs_background": "light",
      "tags": []
     },
     "output_type": "display_data"
    }
   ],
   "source": [
    "ax, fig = plt.subplots()\n",
    "etiquetas = dataset.fake.value_counts()\n",
    "etiquetas.plot(kind= 'bar', color= [\"blue\", \"orange\"])\n",
    "plt.title('Bar chart')\n",
    "plt.show()"
   ]
  },
  {
   "cell_type": "markdown",
   "metadata": {
    "id": "Ors90Yon5aJf"
   },
   "source": [
    "## Distribución longitudes"
   ]
  },
  {
   "cell_type": "markdown",
   "metadata": {
    "id": "F6g9y8vUa2sQ"
   },
   "source": [
    "Para seguir con el análisis exploratorio, vamos a hacer un cálculo típico: la longitud de cada uno de los textos de los documentos para despues dibujar su histograma. \n",
    "\n",
    "También se podría tokenizar y después extraer esta distribución, pero por seguir los pasos lógicos marcados durante la clase, lo haremos ahora."
   ]
  },
  {
   "cell_type": "code",
   "execution_count": null,
   "metadata": {
    "colab": {
     "base_uri": "https://localhost:8080/"
    },
    "id": "fVjO14rKXWXL",
    "outputId": "3448928b-24bb-4f93-d1bf-45f15e3e1e89"
   },
   "outputs": [
    {
     "name": "stderr",
     "output_type": "stream",
     "text": [
      "/usr/local/lib/python3.7/dist-packages/ipykernel_launcher.py:2: SettingWithCopyWarning: \n",
      "A value is trying to be set on a copy of a slice from a DataFrame.\n",
      "Try using .loc[row_indexer,col_indexer] = value instead\n",
      "\n",
      "See the caveats in the documentation: https://pandas.pydata.org/pandas-docs/stable/user_guide/indexing.html#returning-a-view-versus-a-copy\n",
      "  \n"
     ]
    }
   ],
   "source": [
    "# Utilizar apply y lambda x\n",
    "dataset[\"char_len\"] = dataset[\"title\"].apply(_____________________________________)"
   ]
  },
  {
   "cell_type": "code",
   "execution_count": null,
   "metadata": {
    "id": "jJj1emdQXWQq"
   },
   "outputs": [],
   "source": [
    "fig = plt.figure(figsize=(10,6))\n",
    "plt1 = sns.distplot(________________________, hist=True, label=\"real\") # Filtar elementos \"fake\"=0 y coger alor de char_len\n",
    "plt2 = sns.distplot(________________________, hist=True, label=\"fake\") # Filtar elementos \"fake\"=1 y coger alor de char_len\n",
    "fig.legend(labels=['real','fake'])\n",
    "plt.show()"
   ]
  },
  {
   "cell_type": "markdown",
   "metadata": {
    "id": "codyXatXcPli"
   },
   "source": [
    "Una noticia interesante! Vemos que las distribuciones de longitud de los titulares cambian en función de la veracidad de la noticia. La longitud de las noticias falsas suelen tener una logitud mayor. \n",
    "Esto es un dato muy interesante, viendo la separación de estas variables podríamos entrenar un \"clasificador\" que funcionara bastante bien con la regla `if len(noticia)>50 \"fake\" else \"verdad\"`\n"
   ]
  },
  {
   "cell_type": "markdown",
   "metadata": {
    "id": "tPAAunCYdJSL"
   },
   "source": [
    "# Transformación\n",
    "Como hemos visto, está dividido en dos pasos Normalización o Preprocesado y Transformación\n",
    "\n",
    "## Normalización\n",
    "Vamos a proceder a normalizar los datos. Para ello vamos a generar pequeñas funciones que nos permitan:\n",
    "- Eliminar espacios extra.\n",
    "- Transformar a minúsculas.\n",
    "- Tokenizar.\n",
    "- Reemplazar contractions.\n",
    "- Lematizar tokens.\n",
    "- Eliminar stopwords.\n",
    "- Eliminar sígnos de puntuación."
   ]
  },
  {
   "cell_type": "code",
   "execution_count": null,
   "metadata": {
    "id": "kJ6YL7aMeCTA"
   },
   "outputs": [],
   "source": [
    "# Eliminar espacios\n",
    "def eliminar_espacios(text): \n",
    "    return  \" \".join(text.split()) \n",
    "\n",
    "# To lower\n",
    "def texto_to_lower(text):\n",
    "  return text.lower()\n",
    "\n",
    "# Tokenizador utilizando nltk \n",
    "def tokenization(text):\n",
    "  tokens = _______________________\n",
    "  return tokens\n",
    "\n",
    "# Reemplazar contractions usando la librería \"contractions\" https://github.com/kootenpv/contractions\n",
    "def replace_contraction(text):\n",
    "    expanded_words = []\n",
    "    for t in text.split():\n",
    "        expanded_words.append(contractions.fix(t))\n",
    "    expanded_text = ' '.join(expanded_words) \n",
    "    return expanded_text\n",
    "\n",
    "# Quitar stop words\n",
    "from nltk.corpus import stopwords\n",
    "def quitar_stopwords(tokens):\n",
    "    stop_words = set(stopwords.words('english')) \n",
    "    filtered_sentence = [w for w in tokens if not w in stop_words]\n",
    "    return filtered_sentence\n",
    "\n",
    "\n",
    "# Eliminar signos de puntuación (nos quedamos sólo lo alfanumérico en este caso)\n",
    "def quitar_puntuacion(tokens):\n",
    "    words=[word for word in tokens if word.isalnum()]\n",
    "    return words\n",
    "\n",
    "\n",
    "# Lemmatization\n",
    "import es_core_news_sm\n",
    "nlp = es_core_news_sm.load(disable=['parser', 'ner'])\n",
    "def lematizar(tokens):\n",
    "    sentence = \" \".join(tokens)\n",
    "    mytokens = nlp(sentence)\n",
    "    # Lematizamos los tokens y los convertimos  a minusculas\n",
    "    mytokens = [ word.lemma_ if word.lemma_ != \"-PRON-\" else word.lower_ for word in mytokens ]\n",
    "    # Extraemos el text en una string\n",
    "    return \" \".join(mytokens)\n",
    "\n",
    "\n",
    "import string\n",
    "from nltk.stem import PorterStemmer\n",
    "stemmer = PorterStemmer()\n",
    "def stem(tokens):\n",
    "    tokens = [ ____________________ for token in tokens]\n",
    "    return tokens\n"
   ]
  },
  {
   "cell_type": "markdown",
   "metadata": {
    "id": "qbbM69WbL9-a"
   },
   "source": [
    "Podríamos generar una función de transformación que aglutinara todas las anteriores y pasársela al siguiente paso (TfidfVectorizer) en el campo analyzer. Para ver el proceso de cada uno de los pasos lo haremos paso a paso:\n",
    "\n"
   ]
  },
  {
   "cell_type": "code",
   "execution_count": null,
   "metadata": {
    "id": "CVsYXrUaKOH1"
   },
   "outputs": [],
   "source": [
    "# Quitar Espacios\n",
    "dataset[\"normaliza\"] = dataset[\"title\"].progress_apply(lambda x: _______________(x))\n",
    "# To Lower\n",
    "dataset[\"normaliza\"] = dataset[\"normaliza\"].progress_apply(lambda x: ________________(x))\n",
    "# Contraciones\n",
    "dataset[\"normaliza\"] = dataset[\"normaliza\"].progress_apply(lambda x: _____________(x))\n",
    "# Tokenizar\n",
    "dataset[\"normaliza\"] = dataset[\"normaliza\"].progress_apply(lambda x: ______________(x))\n",
    "# Quitar Stopwords\n",
    "dataset[\"normaliza\"] = dataset[\"normaliza\"].progress_apply(lambda x: ______________(x))\n",
    "# Quitar puntuación\n",
    "dataset[\"normaliza\"] = dataset[\"normaliza\"].progress_apply(lambda x: _______________________(x))\n",
    "# Stemming\n",
    "dataset[\"normaliza\"] = dataset[\"normaliza\"].progress_apply(lambda x: _______________(x))\n",
    "# Mirar todo lo que tarda con lematización (mediante spacy)\n",
    "#dataset[\"normaliza\"] = dataset[\"normaliza\"].progress_apply(lambda x: lematizar(x))\n",
    "\n",
    "dataset[\"normaliza\"]\n",
    "\n"
   ]
  },
  {
   "cell_type": "markdown",
   "metadata": {
    "id": "NEc8NbJiHgpI"
   },
   "source": [
    "Posteriormente podríamos crear una función que preprocesara los textos según nuestras necesidades:\n"
   ]
  },
  {
   "cell_type": "code",
   "execution_count": null,
   "metadata": {
    "id": "GDuqPybN66kL"
   },
   "outputs": [],
   "source": [
    "# Hacer como ejercicio de clase\n",
    "def preprocesado_fakenews(sentence, remove_spaces =True)\n",
    "  if (remove_spaces):\n",
    "    sentence = eliminar_espacios(x)\n",
    "  sentence = texto_to_lower(sentence)\n",
    " ......"
   ]
  },
  {
   "cell_type": "markdown",
   "metadata": {
    "id": "KdqPMl4Dd1HV"
   },
   "source": [
    "Como explicamos ayer, se ha hecho el preprocesado, y antes de introducirlo a TFIDF vamos a generar una frase de gada una de las listas de tokens, para utilizar el propio tokenizador de TFIDF."
   ]
  },
  {
   "cell_type": "code",
   "execution_count": null,
   "metadata": {
    "id": "mY6WpS-yOx1L"
   },
   "outputs": [],
   "source": [
    "dataset[\"clean_text\"] = dataset[\"normaliza\"].progress_apply(lambda x: \" \".join(x))"
   ]
  },
  {
   "cell_type": "markdown",
   "metadata": {
    "id": "ueaCeNY_dNsb"
   },
   "source": [
    "Podríamos visualizar la longitud de en tokens de los textos una vez hecha la limpieza anterior:"
   ]
  },
  {
   "cell_type": "code",
   "execution_count": null,
   "metadata": {
    "id": "Aps3MAKs3nbn"
   },
   "outputs": [],
   "source": [
    "dataset[\"token_len\"] = ______________________________________\n",
    "\n",
    "\n",
    "fig = plt.figure(figsize=(10,6))\n",
    "plt1 = sns.distplot(______________________, hist=True, label=\"real\")\n",
    "plt2 = sns.distplot(______________________, hist=True, label=\"fake\")\n",
    "fig.legend(labels=['real','fake'])\n",
    "plt.show()"
   ]
  },
  {
   "cell_type": "markdown",
   "metadata": {
    "id": "sDzGOY35eC0z"
   },
   "source": [
    "## Vectorizacion"
   ]
  },
  {
   "cell_type": "markdown",
   "metadata": {
    "id": "HfdM-z99eJLA"
   },
   "source": [
    "Con todo  generado, vamos a extraer las características utilizando TFIDVectorizer:\n",
    "- Queremos utilizar como máximo 300 features\n",
    "- unigramas, bigramas y trigramas\n",
    "- Que el sistema no considere los elementos que salgan en menos del 5% de los documentos."
   ]
  },
  {
   "cell_type": "code",
   "execution_count": null,
   "metadata": {
    "id": "evb9m-RBLz1l"
   },
   "outputs": [],
   "source": [
    "vectorizador = TfidfVectorizer(_____________________________________)\n",
    "\n",
    "# Transformamos el dataset limpiado anteriormente\n",
    "vector_data = vectorizador.fit_transform(______________________)"
   ]
  },
  {
   "cell_type": "markdown",
   "metadata": {
    "id": "5GqIsdmbQAHs"
   },
   "source": [
    "# Entrenar/validar el clasificador:"
   ]
  },
  {
   "cell_type": "markdown",
   "metadata": {
    "id": "DN2KZldQe2DA"
   },
   "source": [
    "En primer lugar, dividamos el dataset en Train/Test:"
   ]
  },
  {
   "cell_type": "code",
   "execution_count": null,
   "metadata": {
    "id": "0_SFqAufe2vd"
   },
   "outputs": [],
   "source": [
    "X_train, X_test, y_train, y_test = train_test_split(vector_data, dataset.fake, random_state=0)\n",
    "print(X_train.shape)\n",
    "print(X_test.shape)"
   ]
  },
  {
   "cell_type": "markdown",
   "metadata": {
    "id": "692437DAeiyy"
   },
   "source": [
    "Vamos a entrenar el modelo. \n",
    "Dado que es un problema binario, vamos a utilizar un regresorLogístico para realizar la clasificación. Los parámetros del regresor son \"solvers\",\"penalty\" y \"c_values\" (el más importante). \n",
    "Vamos a hacer una grid_search para ver cuales son los mejores valores."
   ]
  },
  {
   "cell_type": "code",
   "execution_count": null,
   "metadata": {
    "id": "ueeLM4h-fJPx"
   },
   "outputs": [],
   "source": [
    "from sklearn.model_selection import KFold\n",
    "from sklearn.model_selection import GridSearchCV\n",
    "# define models and parameters\n",
    "model = LogisticRegression()\n",
    "solvers = ['newton-cg', 'liblinear']\n",
    "penalty = ['l2']\n",
    "c_values = [100, 10, 1.0, 0.1, 0.01]\n"
   ]
  },
  {
   "cell_type": "markdown",
   "metadata": {
    "id": "p0-q-Gm9fLqC"
   },
   "source": [
    "Vamos a generar un diccionario para la búsqueda Grid y también generaremos el objeto GridSearchCV. Vamos a utilizar una métrica de búsqueda basada en accuracy (por probar)"
   ]
  },
  {
   "cell_type": "code",
   "execution_count": null,
   "metadata": {
    "id": "4Pa_QMDUfJvE"
   },
   "outputs": [],
   "source": [
    "grid = dict(solver=solvers,penalty=penalty,C=c_values)\n",
    "cv = KFold(n_splits=10, random_state=1)\n",
    "grid_search = GridSearchCV(estimator=model, param_grid=grid, n_jobs=-1, cv=cv, scoring='accuracy',error_score=0)"
   ]
  },
  {
   "cell_type": "markdown",
   "metadata": {
    "id": "rt4WJenWfbMg"
   },
   "source": [
    "Entrenamos el modelo y hacemos un \"print\" del mejor resultado:"
   ]
  },
  {
   "cell_type": "code",
   "execution_count": null,
   "metadata": {
    "id": "tn6JFgqVfmZM"
   },
   "outputs": [],
   "source": [
    "grid_result = grid_search.fit(X_train, y_train)\n",
    "# summarize results\n",
    "print(\"Mejor accuracy: %f usando los parámetros %s\" % (grid_result.best_score_, grid_result.best_params_))\n"
   ]
  },
  {
   "cell_type": "markdown",
   "metadata": {
    "id": "MtaMlfDtf_lV"
   },
   "source": [
    "Podría interesarnos más otro de los resultados, así que vamos a mostrar todos. \n",
    "Primero asignamos la accuracy media de cada modelo a una variable (means), la std y los parametros y hacemos un bucle for."
   ]
  },
  {
   "cell_type": "code",
   "execution_count": null,
   "metadata": {
    "id": "u5t8oEx-P_w3"
   },
   "outputs": [],
   "source": [
    "means = grid_result.cv_results_['mean_test_score']\n",
    "stds = grid_result.cv_results_['std_test_score']\n",
    "params = grid_result.cv_results_['params']\n",
    "for mean, stdev, param in zip(means, stds, params):\n",
    "    print(\"%f (%f) con parámetros: %r\" % (mean, stdev, param))"
   ]
  },
  {
   "cell_type": "markdown",
   "metadata": {
    "id": "q3pxK0yAgaRD"
   },
   "source": [
    "Tenemos modelo! Los resultados mejores deben ser introducidos a un modelo específico para ser entrenado:"
   ]
  },
  {
   "cell_type": "code",
   "execution_count": null,
   "metadata": {
    "id": "t1OuszK2SfrU"
   },
   "outputs": [],
   "source": [
    "from sklearn.model_selection import (KFold, cross_val_score,cross_validate)\n",
    "from sklearn.metrics import make_scorer, accuracy_score, precision_score, recall_score, f1_score\n",
    "\n",
    "model=LogisticRegression(____________________________________)\n",
    "model.fit(X_train,y_train)\n"
   ]
  },
  {
   "cell_type": "markdown",
   "metadata": {
    "id": "hf3UF16cgmJi"
   },
   "source": [
    "Predecimos con el set de test, y creamos una matriz de confusión y un \"classification report\"."
   ]
  },
  {
   "cell_type": "code",
   "execution_count": null,
   "metadata": {
    "id": "bYlyCyWogmeM"
   },
   "outputs": [],
   "source": [
    "# Predecimos con el clasificador \"model\" la clase de los datos de X_test\n",
    "y_pred = ________________________________"
   ]
  },
  {
   "cell_type": "markdown",
   "metadata": {
    "id": "H8jziYied1gb"
   },
   "source": [
    "Vamos a calcular la matriz de confusión con el test set y el classification report (utilizando y_test, y_pred)"
   ]
  },
  {
   "cell_type": "code",
   "execution_count": null,
   "metadata": {
    "id": "pTrtLnWwd1PD"
   },
   "outputs": [],
   "source": [
    "from sklearn.metrics import classification_report,confusion_matrix\n",
    "print(confusion_matrix(_______,________))\n",
    "print(classification_report(_______,_______))"
   ]
  },
  {
   "cell_type": "markdown",
   "metadata": {
    "id": "q4tUHSSSg41H"
   },
   "source": [
    "Además podemos pintar esa matriz de confusión para tener los resultados más \"bonitos\"."
   ]
  },
  {
   "cell_type": "code",
   "execution_count": null,
   "metadata": {
    "colab": {
     "base_uri": "https://localhost:8080/",
     "height": 301
    },
    "id": "0Wr9Jwo0UJbr",
    "outputId": "4b8cfead-36d7-4cb6-daad-b6d3c7643869"
   },
   "outputs": [
    {
     "data": {
      "text/plain": [
       "<sklearn.metrics._plot.confusion_matrix.ConfusionMatrixDisplay at 0x7fb55f08d650>"
      ]
     },
     "execution_count": 78,
     "metadata": {
      "tags": []
     },
     "output_type": "execute_result"
    },
    {
     "data": {
      "image/png": "[encoded data removed]",
      "text/plain": [
       "<Figure size 432x288 with 2 Axes>"
      ]
     },
     "metadata": {
      "needs_background": "light",
      "tags": []
     },
     "output_type": "display_data"
    }
   ],
   "source": [
    "from sklearn.metrics import plot_confusion_matrix\n",
    "plot_confusion_matrix(model, X_test, y_test, normalize = None)"
   ]
  },
  {
   "cell_type": "markdown",
   "metadata": {
    "id": "iKRA0rdmhDfk"
   },
   "source": [
    "Si quisieramos aplicar el modelo a nuevos datos, tendríamos que preprocesarlo del mismo modo que a los datos de entrenamiento y deberíamos transformarlo con el TFIDFVectorizar anteriormente entrenado. Despues de eso ya se podría incorporar sin problemas al `model.predict(Xnew)`"
   ]
  }
 ],
 "metadata": {
  "colab": {
   "collapsed_sections": [
    "U9M2CFTA46Nb",
    "sPncriAr5XbR",
    "Ors90Yon5aJf"
   ],
   "name": "TextClassification_master_alumnos_referencia_hacer_copia_antes_de_usar.ipynb",
   "provenance": []
  },
  "kernelspec": {
   "display_name": "Python 3",
   "name": "python3"
  }
 },
 "nbformat": 4,
 "nbformat_minor": 0
}
