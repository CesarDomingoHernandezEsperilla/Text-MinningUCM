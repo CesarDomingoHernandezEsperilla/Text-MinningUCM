{
 "cells": [
  {
   "cell_type": "code",
   "execution_count": null,
   "metadata": {
    "colab": {
     "base_uri": "https://localhost:8080/"
    },
    "id": "wIK6VtAwvbT7",
    "outputId": "7f7ea09e-f360-40d3-dd52-25197111ef6f"
   },
   "outputs": [
    {
     "name": "stdout",
     "output_type": "stream",
     "text": [
      "Collecting emosent-py\n",
      "  Downloading https://files.pythonhosted.org/packages/3b/d7/00c5117b7f81c53d764520e0a5032e678f1b3e54daee60308a9bfe6a94d9/emosent-py-0.1.6.tar.gz\n",
      "Building wheels for collected packages: emosent-py\n",
      "  Building wheel for emosent-py (setup.py) ... \u001b[?25l\u001b[?25hdone\n",
      "  Created wheel for emosent-py: filename=emosent_py-0.1.6-cp37-none-any.whl size=28503 sha256=5d7c45b8fb86b3a9f0b948dc69ebd3340f041bbc95b24c2d0c595fbe10a17c98\n",
      "  Stored in directory: /root/.cache/pip/wheels/46/32/3c/2e21c3622b77cdc89a38a711240588ac3cf9b8e805eed0f6e1\n",
      "Successfully built emosent-py\n",
      "Installing collected packages: emosent-py\n",
      "Successfully installed emosent-py-0.1.6\n",
      "Collecting emoji_extractor\n",
      "  Downloading https://files.pythonhosted.org/packages/31/4b/7f360e4e9424551b20d111c048d3b8b9825aab1db730739ee9996d00d245/emoji_extractor-1.0.19.tar.gz\n",
      "Building wheels for collected packages: emoji-extractor\n",
      "  Building wheel for emoji-extractor (setup.py) ... \u001b[?25l\u001b[?25hdone\n",
      "  Created wheel for emoji-extractor: filename=emoji_extractor-1.0.19-cp37-none-any.whl size=61586 sha256=36fc9bfc312831d2d90d2792908101d47ead8f67419455ce9b358eb3b7bcfd85\n",
      "  Stored in directory: /root/.cache/pip/wheels/87/bd/5f/e0108b9a84b63b2a0379397d5dada523360c26a46342d5c1a4\n",
      "Successfully built emoji-extractor\n",
      "Installing collected packages: emoji-extractor\n",
      "Successfully installed emoji-extractor-1.0.19\n",
      "Collecting emoji\n",
      "\u001b[?25l  Downloading https://files.pythonhosted.org/packages/24/fa/b3368f41b95a286f8d300e323449ab4e86b85334c2e0b477e94422b8ed0f/emoji-1.2.0-py3-none-any.whl (131kB)\n",
      "\u001b[K     |████████████████████████████████| 133kB 25.6MB/s \n",
      "\u001b[?25hInstalling collected packages: emoji\n",
      "Successfully installed emoji-1.2.0\n",
      "Collecting vaderSentiment\n",
      "\u001b[?25l  Downloading https://files.pythonhosted.org/packages/76/fc/310e16254683c1ed35eeb97386986d6c00bc29df17ce280aed64d55537e9/vaderSentiment-3.3.2-py2.py3-none-any.whl (125kB)\n",
      "\u001b[K     |████████████████████████████████| 133kB 28.8MB/s \n",
      "\u001b[?25hRequirement already satisfied: requests in /usr/local/lib/python3.7/dist-packages (from vaderSentiment) (2.23.0)\n",
      "Requirement already satisfied: idna<3,>=2.5 in /usr/local/lib/python3.7/dist-packages (from requests->vaderSentiment) (2.10)\n",
      "Requirement already satisfied: certifi>=2017.4.17 in /usr/local/lib/python3.7/dist-packages (from requests->vaderSentiment) (2020.12.5)\n",
      "Requirement already satisfied: chardet<4,>=3.0.2 in /usr/local/lib/python3.7/dist-packages (from requests->vaderSentiment) (3.0.4)\n",
      "Requirement already satisfied: urllib3!=1.25.0,!=1.25.1,<1.26,>=1.21.1 in /usr/local/lib/python3.7/dist-packages (from requests->vaderSentiment) (1.24.3)\n",
      "Installing collected packages: vaderSentiment\n",
      "Successfully installed vaderSentiment-3.3.2\n",
      "--2021-06-05 10:27:05--  https://www.clarin.si/repository/xmlui/handle/11356/1048/allzip\n",
      "Resolving www.clarin.si (www.clarin.si)... 95.87.154.205\n",
      "Connecting to www.clarin.si (www.clarin.si)|95.87.154.205|:443... connected.\n",
      "HTTP request sent, awaiting response... 200 OK\n",
      "Length: unspecified [application/zip]\n",
      "Saving to: ‘allzip’\n",
      "\n",
      "allzip                  [  <=>               ]  94.61K   457KB/s    in 0.2s    \n",
      "\n",
      "2021-06-05 10:27:06 (457 KB/s) - ‘allzip’ saved [96878]\n",
      "\n",
      "Archive:  allzip\n",
      "  inflating: ESR_v1.0_format.txt     \n",
      "  inflating: Emoji_Sentiment_Data_v1.0.csv  \n",
      "  inflating: Emojitracker_20150604.csv  \n",
      "[nltk_data] Downloading package punkt to /root/nltk_data...\n",
      "[nltk_data]   Unzipping tokenizers/punkt.zip.\n",
      "[nltk_data] Downloading package averaged_perceptron_tagger to\n",
      "[nltk_data]     /root/nltk_data...\n",
      "[nltk_data]   Unzipping taggers/averaged_perceptron_tagger.zip.\n",
      "[nltk_data] Downloading package opinion_lexicon to /root/nltk_data...\n",
      "[nltk_data]   Unzipping corpora/opinion_lexicon.zip.\n",
      "[nltk_data] Downloading package subjectivity to /root/nltk_data...\n",
      "[nltk_data]   Unzipping corpora/subjectivity.zip.\n",
      "[nltk_data] Downloading package vader_lexicon to /root/nltk_data...\n",
      "[nltk_data] Downloading package wordnet to /root/nltk_data...\n",
      "[nltk_data]   Unzipping corpora/wordnet.zip.\n"
     ]
    },
    {
     "data": {
      "text/plain": [
       "True"
      ]
     },
     "execution_count": 1,
     "metadata": {
      "tags": []
     },
     "output_type": "execute_result"
    }
   ],
   "source": [
    "!pip install emosent-py\n",
    "!pip install emoji_extractor\n",
    "!pip install emoji\n",
    "!pip install vaderSentiment\n",
    "from textblob import TextBlob\n",
    "!wget https://www.clarin.si/repository/xmlui/handle/11356/1048/allzip\n",
    "!unzip allzip\n",
    "import nltk\n",
    "nltk.download('punkt')\n",
    "nltk.download('averaged_perceptron_tagger')\n",
    "nltk.download('opinion_lexicon')\n",
    "nltk.download('subjectivity')\n",
    "nltk.download('vader_lexicon')\n",
    "nltk.download('wordnet')"
   ]
  },
  {
   "cell_type": "code",
   "execution_count": null,
   "metadata": {
    "id": "1sHnqbQw2fFA"
   },
   "outputs": [],
   "source": [
    "import pandas as pd"
   ]
  },
  {
   "cell_type": "markdown",
   "metadata": {
    "id": "pZMiGL9whjVJ"
   },
   "source": [
    "Leemos y procesamos el diccionario de \"Emoji Sentiment\""
   ]
  },
  {
   "cell_type": "code",
   "execution_count": null,
   "metadata": {
    "id": "UoRjPdDRbX9Z"
   },
   "outputs": [],
   "source": [
    "# Preparar diccionario de emojis\n",
    "def load_emoji_sentiment(path):\n",
    "  # Cargamos el csv de emoji_sentiment\n",
    "  emoji_sent_df = pd.read_csv(path,sep=\",\")\n",
    "  # Calculamos los scores dividiendo el número de emojis negativos y entre el total\n",
    "  emoji_sent_df[\"Negative\"] = emoji_sent_df[\"Negative\"]/emoji_sent_df[\"Occurrences\"]\n",
    "  emoji_sent_df[\"Neutral\"] = emoji_sent_df[\"Neutral\"]/emoji_sent_df[\"Occurrences\"]\n",
    "  emoji_sent_df[\"Positive\"] = emoji_sent_df[\"Positive\"]/emoji_sent_df[\"Occurrences\"]\n",
    "  # Transformamos a dict\n",
    "  emoji_sent_df = emoji_sent_df.set_index('Emoji')\n",
    "  emoji_dict = emoji_sent_df.to_dict(orient=\"index\")\n",
    "  return emoji_dict\n",
    "\n",
    "emoji_dict = load_emoji_sentiment(\"Emoji_Sentiment_Data_v1.0.csv\")"
   ]
  },
  {
   "cell_type": "code",
   "execution_count": null,
   "metadata": {
    "colab": {
     "base_uri": "https://localhost:8080/"
    },
    "id": "BLxPsNYbCxFJ",
    "outputId": "804ce351-be74-430c-de73-346ee61aa4d9"
   },
   "outputs": [
    {
     "data": {
      "text/plain": [
       "0.05173769460607014"
      ]
     },
     "execution_count": 7,
     "metadata": {
      "tags": []
     },
     "output_type": "execute_result"
    }
   ],
   "source": [
    "emoji_dict[\"😍\"][\"Negative\"]"
   ]
  },
  {
   "cell_type": "markdown",
   "metadata": {
    "id": "bXBdB1EUvc9a"
   },
   "source": [
    "# Extracción de sentimiento"
   ]
  },
  {
   "cell_type": "markdown",
   "metadata": {
    "id": "mcH_OdWHvmLX"
   },
   "source": [
    "Hemos comentado que se puede extraer la componente de sentimiento de varias formas:\n",
    "- Con librerías externas que tienen modelos pre-entrenados (textblob)\n",
    "- Con diccionarios de sentimiento (sentiment lexicons)\n",
    "- A traves de los emojis presentes en el texto"
   ]
  },
  {
   "cell_type": "code",
   "execution_count": null,
   "metadata": {
    "id": "JID16OPMxhr6"
   },
   "outputs": [],
   "source": [
    "frase_no_emoji = \"I love that my phone can just combine emojis. I don't like the lack of nice apps.\"\n",
    "frase_emoji = \"I love that my phone can just combine emojis 😍😺👏. I don't like the lack of nice apps.\"\n"
   ]
  },
  {
   "cell_type": "markdown",
   "metadata": {
    "id": "iK4a9E8mwHVC"
   },
   "source": [
    "## TextBlob\n",
    "\n",
    "Esta librería es muy sencilla y algo similar a Spacy. A partir de un texto puedes calcular múltiples parámetros entre los que se encuentra el sentimiento. Para ello, sólo hay que importar la clase TextBlob que se aplica a nuestro texto, y después podríamos extraer el sentimiento que tiene: tanto la polaridad como la subjetividad:\n",
    "```\n",
    "testimonial = TextBlob(\"Textblob is amazingly simple to use. What great fun!\")\n",
    "testimonial.sentiment\n",
    "```\n",
    "\n"
   ]
  },
  {
   "cell_type": "code",
   "execution_count": null,
   "metadata": {
    "colab": {
     "base_uri": "https://localhost:8080/"
    },
    "id": "mPEajkwYw6bW",
    "outputId": "0b3e2885-4929-41b4-bc05-7fc6362320cc"
   },
   "outputs": [
    {
     "name": "stdout",
     "output_type": "stream",
     "text": [
      "Sentiment(polarity=0.55, subjectivity=0.8)\n",
      "Sentiment(polarity=0.55, subjectivity=0.8)\n"
     ]
    }
   ],
   "source": [
    "frase_no_emoji_blob = TextBlob(frase_no_emoji)\n",
    "frase_emoji_blob = TextBlob(ff)\n",
    "print(frase_no_emoji_blob.___________________)\n",
    "print(frase_emoji_blob.______________________)"
   ]
  },
  {
   "cell_type": "markdown",
   "metadata": {
    "id": "N647mI2xx_Ja"
   },
   "source": [
    "TextBlob omite el emoticono. Podríamos sustituirlo por una frase utilizando un conversor. PAra eso hay que extraer el emoji y sustituirlo por su descripción:\n"
   ]
  },
  {
   "cell_type": "code",
   "execution_count": null,
   "metadata": {
    "colab": {
     "base_uri": "https://localhost:8080/"
    },
    "id": "JPptY6g4Blbs",
    "outputId": "96a88da6-b0ef-48bd-9a66-ab138313919e"
   },
   "outputs": [
    {
     "data": {
      "text/plain": [
       "['😍', '😺', '👏']"
      ]
     },
     "execution_count": 9,
     "metadata": {
      "tags": []
     },
     "output_type": "execute_result"
    }
   ],
   "source": [
    "from emoji_extractor.extract import Extractor\n",
    "extract = ________________________\n",
    "emojis = extract.count_emoji(__________________, check_first=False)\n",
    "emojis_list = [key for key, _ in emojis.most_common()]\n",
    "emojis_list\n"
   ]
  },
  {
   "cell_type": "markdown",
   "metadata": {
    "id": "yaFaLTFKCU7y"
   },
   "source": [
    "Hemos extraid emojis de un texto, ahora vamos a sustituirlos por su descripción con la librería \"emoji\":"
   ]
  },
  {
   "cell_type": "code",
   "execution_count": null,
   "metadata": {
    "id": "T1cykkTXCaPU"
   },
   "outputs": [],
   "source": [
    "import emoji\n",
    "import string\n",
    "emojis_description = _________________________________________\n",
    "emojis_description"
   ]
  },
  {
   "cell_type": "code",
   "execution_count": null,
   "metadata": {
    "id": "JxiVjjEe-LFn"
   },
   "outputs": [],
   "source": [
    "emojis_desc_final = _________________________________\n",
    "emojis_desc_final"
   ]
  },
  {
   "cell_type": "code",
   "execution_count": null,
   "metadata": {
    "id": "L4HzAocI-Ov3"
   },
   "outputs": [],
   "source": [
    "emojis_desc_final = _________________________________\n",
    "emojis_desc_final"
   ]
  },
  {
   "cell_type": "markdown",
   "metadata": {
    "id": "BchzKEzxKl2p"
   },
   "source": [
    "Lematizamos (también podemos con Text Blob!)"
   ]
  },
  {
   "cell_type": "code",
   "execution_count": null,
   "metadata": {
    "colab": {
     "base_uri": "https://localhost:8080/",
     "height": 35
    },
    "id": "ka8OWf7gKotU",
    "outputId": "a4bb521c-71cc-4f01-d1d2-693bebe625d5"
   },
   "outputs": [
    {
     "data": {
      "application/vnd.google.colaboratory.intrinsic+json": {
       "type": "string"
      },
      "text/plain": [
       "'smile face with heart-eyes grin cat clap hand'"
      ]
     },
     "execution_count": 12,
     "metadata": {
      "tags": []
     },
     "output_type": "execute_result"
    }
   ],
   "source": [
    "from textblob import Word \n",
    "emojis_blob = emojis_desc_final.split()\n",
    "emojis_lemmas = [Word(x).lemmatize(\"v\") for x in emojis_blob]\n",
    "emojis_lemmas = \" \".join(emojis_lemmas)\n",
    "emojis_lemmas"
   ]
  },
  {
   "cell_type": "code",
   "execution_count": null,
   "metadata": {
    "id": "ypp69PyCex_l"
   },
   "outputs": [],
   "source": [
    ""
   ]
  },
  {
   "cell_type": "code",
   "execution_count": null,
   "metadata": {
    "colab": {
     "base_uri": "https://localhost:8080/"
    },
    "id": "U90NW2cvDI1N",
    "outputId": "048c8b04-a40d-4e53-d76b-6edb56666b65"
   },
   "outputs": [
    {
     "name": "stdout",
     "output_type": "stream",
     "text": [
      "Sentiment(polarity=0.55, subjectivity=0.8)\n",
      "Sentiment(polarity=0.46666666666666673, subjectivity=0.5666666666666668)\n"
     ]
    }
   ],
   "source": [
    "final_emoji_sentence = TextBlob(frase_emoji+ \" \" +emojis_lemmas)\n",
    "print(frase_no_emoji_blob.sentiment)\n",
    "print(final_emoji_sentence.sentiment)"
   ]
  },
  {
   "cell_type": "markdown",
   "metadata": {
    "id": "-LBy1xm-MoDO"
   },
   "source": [
    "El valor de la polaridad es menor, porque aunque el token \"smile tiene una polaridad positiva\" el resto de token introducidos no tienen sentimiento, por lo que el promedio baja."
   ]
  },
  {
   "cell_type": "markdown",
   "metadata": {
    "id": "cPOJn0GJ9-EF"
   },
   "source": [
    "También se pueden utilizar la librería NLTK para algo similar con la función 'nltk.sentiment.util.demo_liu_hu_lexicon(frase_emoji)', que devuelve un valor de \"positivo\",\"negativo\" o \"neutro\"."
   ]
  },
  {
   "cell_type": "code",
   "execution_count": null,
   "metadata": {
    "id": "ew0nkkA397MO"
   },
   "outputs": [],
   "source": [
    "from nltk.sentiment.vader import SentiText,SentimentIntensityAnalyzer #https://github.com/cjhutto/vaderSentiment\n",
    "sentsss=__________________________________________\n",
    "sentsss"
   ]
  },
  {
   "cell_type": "code",
   "execution_count": null,
   "metadata": {
    "colab": {
     "base_uri": "https://localhost:8080/"
    },
    "id": "1M0W2ogqfqrN",
    "outputId": "bd501b92-a873-4ba4-f69c-8b9b4250b945"
   },
   "outputs": [
    {
     "name": "stdout",
     "output_type": "stream",
     "text": [
      "{'neg': 0.091, 'neu': 0.52, 'pos': 0.388, 'compound': 0.7815}\n",
      "{'neg': 0.096, 'neu': 0.498, 'pos': 0.406, 'compound': 0.7815}\n"
     ]
    }
   ],
   "source": [
    "print(sentsss.___________________________)\n",
    "print(sentsss.______________________)"
   ]
  },
  {
   "cell_type": "code",
   "execution_count": null,
   "metadata": {
    "id": "t6PYffsY_yNT"
   },
   "outputs": [],
   "source": [
    "from nltk.sentiment.util import demo_liu_hu_lexicon\n",
    "________________________"
   ]
  }
 ],
 "metadata": {
  "colab": {
   "collapsed_sections": [],
   "name": "AnalisisSentimiento_master_alumnos_referencia_hacer_copia_antes_de_usar.ipynb",
   "provenance": []
  },
  "kernelspec": {
   "display_name": "Python 3",
   "name": "python3"
  }
 },
 "nbformat": 4,
 "nbformat_minor": 0
}
