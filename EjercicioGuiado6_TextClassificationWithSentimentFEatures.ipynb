{
 "cells": [
  {
   "cell_type": "code",
   "execution_count": null,
   "metadata": {
    "colab": {
     "base_uri": "https://localhost:8080/"
    },
    "id": "tSCQn96RT3mU",
    "outputId": "b8ceb374-4513-478d-d9ca-0cae10198ed6"
   },
   "outputs": [
    {
     "name": "stdout",
     "output_type": "stream",
     "text": [
      "--2021-06-05 11:28:51--  https://github.com/luisgasco/ntic_master_datos/raw/main/datasets/datos_twitter_master.tsv\n",
      "Resolving github.com (github.com)... 52.69.186.44\n",
      "Connecting to github.com (github.com)|52.69.186.44|:443... connected.\n",
      "HTTP request sent, awaiting response... 302 Found\n",
      "Location: https://raw.githubusercontent.com/luisgasco/ntic_master_datos/main/datasets/datos_twitter_master.tsv [following]\n",
      "--2021-06-05 11:28:52--  https://raw.githubusercontent.com/luisgasco/ntic_master_datos/main/datasets/datos_twitter_master.tsv\n",
      "Resolving raw.githubusercontent.com (raw.githubusercontent.com)... 185.199.108.133, 185.199.111.133, 185.199.110.133, ...\n",
      "Connecting to raw.githubusercontent.com (raw.githubusercontent.com)|185.199.108.133|:443... connected.\n",
      "HTTP request sent, awaiting response... 200 OK\n",
      "Length: 113587 (111K) [text/plain]\n",
      "Saving to: ‘datos_twitter_master.tsv’\n",
      "\n",
      "datos_twitter_maste 100%[===================>] 110.92K  --.-KB/s    in 0.05s   \n",
      "\n",
      "2021-06-05 11:28:52 (2.21 MB/s) - ‘datos_twitter_master.tsv’ saved [113587/113587]\n",
      "\n",
      "Collecting emoji_extractor\n",
      "  Downloading https://files.pythonhosted.org/packages/31/4b/7f360e4e9424551b20d111c048d3b8b9825aab1db730739ee9996d00d245/emoji_extractor-1.0.19.tar.gz\n",
      "Building wheels for collected packages: emoji-extractor\n",
      "  Building wheel for emoji-extractor (setup.py) ... \u001b[?25l\u001b[?25hdone\n",
      "  Created wheel for emoji-extractor: filename=emoji_extractor-1.0.19-cp37-none-any.whl size=61586 sha256=f26bbc172a6d306516f90cb5dc78eaeb52a2c7956c26d801c217e48797745bed\n",
      "  Stored in directory: /root/.cache/pip/wheels/87/bd/5f/e0108b9a84b63b2a0379397d5dada523360c26a46342d5c1a4\n",
      "Successfully built emoji-extractor\n",
      "Installing collected packages: emoji-extractor\n",
      "Successfully installed emoji-extractor-1.0.19\n",
      "Collecting emoji\n",
      "\u001b[?25l  Downloading https://files.pythonhosted.org/packages/24/fa/b3368f41b95a286f8d300e323449ab4e86b85334c2e0b477e94422b8ed0f/emoji-1.2.0-py3-none-any.whl (131kB)\n",
      "\u001b[K     |████████████████████████████████| 133kB 3.1MB/s \n",
      "\u001b[?25hInstalling collected packages: emoji\n",
      "Successfully installed emoji-1.2.0\n",
      "Collecting contractions\n",
      "  Downloading https://files.pythonhosted.org/packages/11/4d/378ab91284c2c3a06ab475b287721c09b7951d5ecb3edf4ffb0e1e7a568a/contractions-0.0.49-py2.py3-none-any.whl\n",
      "Collecting textsearch>=0.0.21\n",
      "  Downloading https://files.pythonhosted.org/packages/d3/fe/021d7d76961b5ceb9f8d022c4138461d83beff36c3938dc424586085e559/textsearch-0.0.21-py2.py3-none-any.whl\n",
      "Collecting anyascii\n",
      "\u001b[?25l  Downloading https://files.pythonhosted.org/packages/a3/14/666cd44bf53f36a961544af592cb5c5c800013f9c51a4745af8d7c17362a/anyascii-0.2.0-py3-none-any.whl (283kB)\n",
      "\u001b[K     |████████████████████████████████| 286kB 2.9MB/s \n",
      "\u001b[?25hCollecting pyahocorasick\n",
      "\u001b[?25l  Downloading https://files.pythonhosted.org/packages/7f/c2/eae730037ae1cbbfaa229d27030d1d5e34a1e41114b21447d1202ae9c220/pyahocorasick-1.4.2.tar.gz (321kB)\n",
      "\u001b[K     |████████████████████████████████| 327kB 13.5MB/s \n",
      "\u001b[?25hBuilding wheels for collected packages: pyahocorasick\n",
      "  Building wheel for pyahocorasick (setup.py) ... \u001b[?25l\u001b[?25hdone\n",
      "  Created wheel for pyahocorasick: filename=pyahocorasick-1.4.2-cp37-cp37m-linux_x86_64.whl size=85407 sha256=6376ea8d2dbf93d33bf89b29956fb2f52cf0a38c3c0761091e70e39d5d22bf7a\n",
      "  Stored in directory: /root/.cache/pip/wheels/3a/03/34/77e3ece0bba8b86bfac88a79f923b36d805cad63caeba38842\n",
      "Successfully built pyahocorasick\n",
      "Installing collected packages: anyascii, pyahocorasick, textsearch, contractions\n",
      "Successfully installed anyascii-0.2.0 contractions-0.0.49 pyahocorasick-1.4.2 textsearch-0.0.21\n",
      "Requirement already satisfied: en_core_web_sm==2.2.5 from https://github.com/explosion/spacy-models/releases/download/en_core_web_sm-2.2.5/en_core_web_sm-2.2.5.tar.gz#egg=en_core_web_sm==2.2.5 in /usr/local/lib/python3.7/dist-packages (2.2.5)\n",
      "Requirement already satisfied: spacy>=2.2.2 in /usr/local/lib/python3.7/dist-packages (from en_core_web_sm==2.2.5) (2.2.4)\n",
      "Requirement already satisfied: plac<1.2.0,>=0.9.6 in /usr/local/lib/python3.7/dist-packages (from spacy>=2.2.2->en_core_web_sm==2.2.5) (1.1.3)\n",
      "Requirement already satisfied: tqdm<5.0.0,>=4.38.0 in /usr/local/lib/python3.7/dist-packages (from spacy>=2.2.2->en_core_web_sm==2.2.5) (4.41.1)\n",
      "Requirement already satisfied: requests<3.0.0,>=2.13.0 in /usr/local/lib/python3.7/dist-packages (from spacy>=2.2.2->en_core_web_sm==2.2.5) (2.23.0)\n",
      "Requirement already satisfied: blis<0.5.0,>=0.4.0 in /usr/local/lib/python3.7/dist-packages (from spacy>=2.2.2->en_core_web_sm==2.2.5) (0.4.1)\n",
      "Requirement already satisfied: srsly<1.1.0,>=1.0.2 in /usr/local/lib/python3.7/dist-packages (from spacy>=2.2.2->en_core_web_sm==2.2.5) (1.0.5)\n",
      "Requirement already satisfied: preshed<3.1.0,>=3.0.2 in /usr/local/lib/python3.7/dist-packages (from spacy>=2.2.2->en_core_web_sm==2.2.5) (3.0.5)\n",
      "Requirement already satisfied: thinc==7.4.0 in /usr/local/lib/python3.7/dist-packages (from spacy>=2.2.2->en_core_web_sm==2.2.5) (7.4.0)\n",
      "Requirement already satisfied: setuptools in /usr/local/lib/python3.7/dist-packages (from spacy>=2.2.2->en_core_web_sm==2.2.5) (57.0.0)\n",
      "Requirement already satisfied: murmurhash<1.1.0,>=0.28.0 in /usr/local/lib/python3.7/dist-packages (from spacy>=2.2.2->en_core_web_sm==2.2.5) (1.0.5)\n",
      "Requirement already satisfied: wasabi<1.1.0,>=0.4.0 in /usr/local/lib/python3.7/dist-packages (from spacy>=2.2.2->en_core_web_sm==2.2.5) (0.8.2)\n",
      "Requirement already satisfied: numpy>=1.15.0 in /usr/local/lib/python3.7/dist-packages (from spacy>=2.2.2->en_core_web_sm==2.2.5) (1.19.5)\n",
      "Requirement already satisfied: catalogue<1.1.0,>=0.0.7 in /usr/local/lib/python3.7/dist-packages (from spacy>=2.2.2->en_core_web_sm==2.2.5) (1.0.0)\n",
      "Requirement already satisfied: cymem<2.1.0,>=2.0.2 in /usr/local/lib/python3.7/dist-packages (from spacy>=2.2.2->en_core_web_sm==2.2.5) (2.0.5)\n",
      "Requirement already satisfied: idna<3,>=2.5 in /usr/local/lib/python3.7/dist-packages (from requests<3.0.0,>=2.13.0->spacy>=2.2.2->en_core_web_sm==2.2.5) (2.10)\n",
      "Requirement already satisfied: certifi>=2017.4.17 in /usr/local/lib/python3.7/dist-packages (from requests<3.0.0,>=2.13.0->spacy>=2.2.2->en_core_web_sm==2.2.5) (2020.12.5)\n",
      "Requirement already satisfied: chardet<4,>=3.0.2 in /usr/local/lib/python3.7/dist-packages (from requests<3.0.0,>=2.13.0->spacy>=2.2.2->en_core_web_sm==2.2.5) (3.0.4)\n",
      "Requirement already satisfied: urllib3!=1.25.0,!=1.25.1,<1.26,>=1.21.1 in /usr/local/lib/python3.7/dist-packages (from requests<3.0.0,>=2.13.0->spacy>=2.2.2->en_core_web_sm==2.2.5) (1.24.3)\n",
      "Requirement already satisfied: importlib-metadata>=0.20; python_version < \"3.8\" in /usr/local/lib/python3.7/dist-packages (from catalogue<1.1.0,>=0.0.7->spacy>=2.2.2->en_core_web_sm==2.2.5) (4.0.1)\n",
      "Requirement already satisfied: typing-extensions>=3.6.4; python_version < \"3.8\" in /usr/local/lib/python3.7/dist-packages (from importlib-metadata>=0.20; python_version < \"3.8\"->catalogue<1.1.0,>=0.0.7->spacy>=2.2.2->en_core_web_sm==2.2.5) (3.7.4.3)\n",
      "Requirement already satisfied: zipp>=0.5 in /usr/local/lib/python3.7/dist-packages (from importlib-metadata>=0.20; python_version < \"3.8\"->catalogue<1.1.0,>=0.0.7->spacy>=2.2.2->en_core_web_sm==2.2.5) (3.4.1)\n",
      "\u001b[38;5;2m✔ Download and installation successful\u001b[0m\n",
      "You can now load the model via spacy.load('en_core_web_sm')\n",
      "[nltk_data] Downloading package stopwords to /root/nltk_data...\n",
      "[nltk_data]   Unzipping corpora/stopwords.zip.\n",
      "--2021-06-05 11:29:14--  https://www.clarin.si/repository/xmlui/handle/11356/1048/allzip\n",
      "Resolving www.clarin.si (www.clarin.si)... 95.87.154.205\n",
      "Connecting to www.clarin.si (www.clarin.si)|95.87.154.205|:443... connected.\n",
      "HTTP request sent, awaiting response... 200 OK\n",
      "Length: unspecified [application/zip]\n",
      "Saving to: ‘allzip’\n",
      "\n",
      "allzip                  [   <=>              ]  94.61K   168KB/s    in 0.6s    \n",
      "\n",
      "2021-06-05 11:29:17 (168 KB/s) - ‘allzip’ saved [96878]\n",
      "\n",
      "Archive:  allzip\n",
      "  inflating: ESR_v1.0_format.txt     \n",
      "  inflating: Emoji_Sentiment_Data_v1.0.csv  \n",
      "  inflating: Emojitracker_20150604.csv  \n"
     ]
    }
   ],
   "source": [
    "!wget https://github.com/luisgasco/ntic_master_datos/raw/main/datasets/datos_twitter_master.tsv\n",
    "!pip install emoji_extractor\n",
    "!pip install emoji\n",
    "import sys  \n",
    "!{sys.executable} -m pip install contractions\n",
    "!python -m spacy download en_core_web_sm\n",
    "import nltk\n",
    "nltk.download('stopwords')\n",
    "# Download emoji sentiment\n",
    "!wget https://www.clarin.si/repository/xmlui/handle/11356/1048/allzip\n",
    "!unzip allzip"
   ]
  },
  {
   "cell_type": "markdown",
   "metadata": {
    "id": "LL_KPNOkORKV"
   },
   "source": [
    "# Imports"
   ]
  },
  {
   "cell_type": "code",
   "execution_count": null,
   "metadata": {
    "id": "dOe_gsA_x9Eh"
   },
   "outputs": [],
   "source": [
    "import matplotlib.pyplot as plt\n",
    "import numpy as np\n",
    "import pandas as pd\n",
    "import seaborn as sns\n",
    "import contractions\n",
    "import re\n",
    "from emoji_extractor.extract import Extractor\n",
    "from nltk.tokenize import TweetTokenizer\n",
    "from nltk.corpus import stopwords\n",
    "import en_core_web_sm\n",
    "from sklearn.feature_extraction.text import TfidfVectorizer\n",
    "from sklearn.linear_model import LogisticRegression\n",
    "from sklearn.model_selection import train_test_split\n",
    "from sklearn.metrics import f1_score, confusion_matrix\n",
    "from sklearn.metrics import classification_report\n"
   ]
  },
  {
   "cell_type": "markdown",
   "metadata": {
    "id": "m8WynRVxPU0z"
   },
   "source": [
    "# Funciones que se utilizarán"
   ]
  },
  {
   "cell_type": "code",
   "execution_count": null,
   "metadata": {
    "id": "EpGYyDY5x73m"
   },
   "outputs": [],
   "source": [
    "# Preparar diccionario de emojis\n",
    "def load_emoji_sentiment(path):\n",
    "  # Cargamos el csv de emoji_sentiment\n",
    "  emoji_sent_df = pd.read_csv(path,sep=\",\")\n",
    "  # Calculamos los scores dividiendo el número de emojis negativos y entre el total\n",
    "  emoji_sent_df[\"Negative\"] = emoji_sent_df[\"Negative\"]/emoji_sent_df[\"Occurrences\"]\n",
    "  emoji_sent_df[\"Neutral\"] = emoji_sent_df[\"Neutral\"]/emoji_sent_df[\"Occurrences\"]\n",
    "  emoji_sent_df[\"Positive\"] = emoji_sent_df[\"Positive\"]/emoji_sent_df[\"Occurrences\"]\n",
    "  # Transformamos a dict\n",
    "  emoji_sent_df = emoji_sent_df.set_index('Emoji')\n",
    "  emoji_dict = emoji_sent_df.to_dict(orient=\"index\")\n",
    "  return emoji_dict"
   ]
  },
  {
   "cell_type": "code",
   "execution_count": null,
   "metadata": {
    "id": "3xtfAvxiPmRM"
   },
   "outputs": [],
   "source": [
    "# Reemplazar contracciones y slang en inglés usando la librería \"contractions\" https://github.com/kootenpv/contractions\n",
    "def replace_contraction(text):\n",
    "    expanded_words = []\n",
    "    # Divide el texto\n",
    "    for t in text.split():\n",
    "        # Aplica la función fix en cada sección o token del texto buscando contracciones y slang\n",
    "        expanded_words.append(contractions.fix(t, slang = True))\n",
    "    expanded_text = ' '.join(expanded_words) \n",
    "    return expanded_text\n",
    "\n",
    "# Hay un tokenizador guay para twitter https://github.com/jaredks/tweetokenize\n",
    "\n"
   ]
  },
  {
   "cell_type": "code",
   "execution_count": null,
   "metadata": {
    "id": "n7fGZmT1QWxi"
   },
   "outputs": [],
   "source": [
    "# Función para extraer emojis del texto en formato lista\n",
    "def extract_emojis(text):\n",
    "  extract = Extractor()\n",
    "  emojis = extract.count_emoji(text, check_first=False)\n",
    "  emojis_list = [key for key, _ in emojis.most_common()]\n",
    "  return emojis_list"
   ]
  },
  {
   "cell_type": "code",
   "execution_count": null,
   "metadata": {
    "id": "wfDZavZWRrr2"
   },
   "outputs": [],
   "source": [
    "# Calcula el sentimiento de los emojis de una lista utilizando el diccionario\n",
    "# de emoji sentiment score generado previamente con la función load_emoji_sentiment()\n",
    "# Se puede extraer el valor de positividad de los emojis con la option \"positive\"\n",
    "# Se puede extraer el valor de neutralidad de los emojis con la option \"neutral\"\"  \n",
    "# Se puede extraer el valor de e negatividad de los emojis con la option \"negative\"\"  \n",
    "\n",
    "def get_emoji_sentiment(lista, option = \"positive\"):\n",
    "  output = 0\n",
    "  for emoji in lista:\n",
    "    try:\n",
    "      if option == \"positive\":\n",
    "        output = output + emoji_sent_dict[emoji][\"Positive\"]\n",
    "      elif option ==\"negative\":\n",
    "        output = output + emoji_sent_dict[emoji][\"Negative\"]\n",
    "      elif option ==\"neutral\":\n",
    "        output = output + emoji_sent_dict[emoji][\"Neutral\"]\n",
    "    except Exception as e: \n",
    "      continue\n",
    "  return output"
   ]
  },
  {
   "cell_type": "code",
   "execution_count": null,
   "metadata": {
    "id": "iidMorvfQX8g"
   },
   "outputs": [],
   "source": [
    "# Eliminar los emojis de un texto. Esto es útil porque una vez extraido los emojis\n",
    "# puede interesarnos tener un texto sin presencia de emojis para mejor análisis.\n",
    "def clean_emoji(text):\n",
    "    # Poner todos los comandos de http://www.unicode.org/Public/emoji/1.0/emoji-data.txt\n",
    "    emoji_pattern = re.compile(\"[\"\n",
    "        u\"\\U0001F300-\\U0001F6FF\"  # symbols & pictographs\n",
    "        u\"\\U0001F1E0-\\U0001F1FF\"  # flags (iOS)\n",
    "        u'\\u2600-\\u26FF\\u2700-\\u27BF'\n",
    "        u'\\u2934' u'\\u2935' u'\\u2B05' u'\\u2B06' u'\\u2B07' u'\\u2B1B' u'\\u2B1C' \n",
    "        u'\\u2B50' u'\\u2B55' u'\\u3030' u'\\u303D' u'\\u3297' u'\\u3299' u'\\u00A9'\n",
    "        u'\\u00AE' u'\\u203C' u'\\u2049' u'\\u2122' u'\\u2139' u'\\u2194-\\u2199' \n",
    "        u'\\u21A9' u'\\u21AA' u'\\u231A' u'\\u231B' u'\\u2328' u'\\u23CF'\n",
    "        u'\\u23E9-\\u23F3' u'\\u23F8' u'\\u23F9' u'\\u23FA' u'\\u24C2' u'\\u25AA'\n",
    "        u'\\u25AB' u'\\u25B6' u'\\u25C0' u'\\u25FB' u'\\u25FD' u'\\u25FC' u'\\u25FE'\n",
    "        ']+', flags=re.UNICODE)\n",
    "    string2 = re.sub(emoji_pattern,r' ',text)\n",
    "    return string2"
   ]
  },
  {
   "cell_type": "code",
   "execution_count": null,
   "metadata": {
    "id": "GFvpD7AoQ_BI"
   },
   "outputs": [],
   "source": [
    "# Tokenizar los tweets con el tokenizador \"TweetTokenizer\" de NLTK\n",
    "def tokenize(texto):\n",
    "  tweet_tokenizer = TweetTokenizer()\n",
    "  tokens_list = tweet_tokenizer.tokenize(texto)\n",
    "  return tokens_list\n",
    "\n",
    "# Quitar stop words de una lista de tokens\n",
    "def quitar_stopwords(tokens):\n",
    "    stop_words = set(stopwords.words('english')) \n",
    "    filtered_sentence = [w for w in tokens if not w in stop_words]\n",
    "    return filtered_sentence\n",
    "\n",
    "\n",
    "# Eliminar signos de puntuación de una lista de tokens\n",
    "# (nos quedamos sólo lo alfanumérico en este caso)\n",
    "def quitar_puntuacion(tokens):\n",
    "    words=[word for word in tokens if word.isalnum()]\n",
    "    return words\n",
    "\n",
    "\n",
    "# Lemmatization de los tokens. Devuelve una string entera para hacer la tokenización\n",
    "# con NLTK\n",
    "nlp = en_core_web_sm.load(disable=['parser', 'ner'])\n",
    "def lematizar(tokens):\n",
    "    sentence = \" \".join(tokens)\n",
    "    mytokens = nlp(sentence)\n",
    "    # Lematizamos los tokens y los convertimos  a minusculas\n",
    "    mytokens = [ word.lemma_ if word.lemma_ != \"-PRON-\" else word.lower_ for word in mytokens ]\n",
    "    # Extraemos el text en una string\n",
    "    return \" \".join(mytokens)\n"
   ]
  },
  {
   "cell_type": "markdown",
   "metadata": {
    "id": "mkJhe7nYTRVG"
   },
   "source": [
    "# Cargar y preparar los datos\n",
    "En primer lugar cargamos los datos que vamos a utilizar en este notebook (emoji_sentiment_data y datos de twitter)."
   ]
  },
  {
   "cell_type": "code",
   "execution_count": null,
   "metadata": {
    "id": "-ID1bUphyILE"
   },
   "outputs": [],
   "source": [
    "emoji_sent_dict = ________________________________________"
   ]
  },
  {
   "cell_type": "markdown",
   "metadata": {
    "id": "sOvvCLWJT1Ll"
   },
   "source": [
    "Podemos textear que hemos obtenido un diccionario cuyas claves son los emojis presentes dentro de emoji sentiment score. Cada emoji tiene un score de negatividad, neutralidad, positividad y otros campos."
   ]
  },
  {
   "cell_type": "code",
   "execution_count": null,
   "metadata": {
    "colab": {
     "base_uri": "https://localhost:8080/"
    },
    "id": "ok9ozYguVFMd",
    "outputId": "09d215ed-07c7-46cf-b98d-a176623c62d6"
   },
   "outputs": [
    {
     "data": {
      "text/plain": [
       "{'Negative': 0.4364820846905538,\n",
       " 'Neutral': 0.22041259500542887,\n",
       " 'Occurrences': 5526,\n",
       " 'Position': 0.803351976,\n",
       " 'Positive': 0.34310532030401736,\n",
       " 'Unicode block': 'Emoticons',\n",
       " 'Unicode codepoint': '0x1f62d',\n",
       " 'Unicode name': 'LOUDLY CRYING FACE'}"
      ]
     },
     "execution_count": 10,
     "metadata": {
      "tags": []
     },
     "output_type": "execute_result"
    }
   ],
   "source": [
    "emoji_sent_dict[\"😭\"]"
   ]
  },
  {
   "cell_type": "markdown",
   "metadata": {
    "id": "YTQVDcH7VpxO"
   },
   "source": [
    "Cargamos el fichero datos_twitter_master.tsv con los datos de Twitter:"
   ]
  },
  {
   "cell_type": "code",
   "execution_count": null,
   "metadata": {
    "colab": {
     "base_uri": "https://localhost:8080/",
     "height": 142
    },
    "id": "9Am6BD7ET-NB",
    "outputId": "fccaeb31-921f-407e-d929-763b3e1bfe4a"
   },
   "outputs": [
    {
     "data": {
      "text/html": [
       "<div>\n",
       "<style scoped>\n",
       "    .dataframe tbody tr th:only-of-type {\n",
       "        vertical-align: middle;\n",
       "    }\n",
       "\n",
       "    .dataframe tbody tr th {\n",
       "        vertical-align: top;\n",
       "    }\n",
       "\n",
       "    .dataframe thead th {\n",
       "        text-align: right;\n",
       "    }\n",
       "</style>\n",
       "<table border=\"1\" class=\"dataframe\">\n",
       "  <thead>\n",
       "    <tr style=\"text-align: right;\">\n",
       "      <th></th>\n",
       "      <th>tweet_text</th>\n",
       "      <th>molestia</th>\n",
       "    </tr>\n",
       "  </thead>\n",
       "  <tbody>\n",
       "    <tr>\n",
       "      <th>0</th>\n",
       "      <td>Noise harassment is a sensation pain based tor...</td>\n",
       "      <td>1</td>\n",
       "    </tr>\n",
       "    <tr>\n",
       "      <th>1</th>\n",
       "      <td>It's 4.30am and we still haven't slept because...</td>\n",
       "      <td>1</td>\n",
       "    </tr>\n",
       "    <tr>\n",
       "      <th>2</th>\n",
       "      <td>These birds acting like I can't grab my chains...</td>\n",
       "      <td>1</td>\n",
       "    </tr>\n",
       "  </tbody>\n",
       "</table>\n",
       "</div>"
      ],
      "text/plain": [
       "                                          tweet_text  molestia\n",
       "0  Noise harassment is a sensation pain based tor...         1\n",
       "1  It's 4.30am and we still haven't slept because...         1\n",
       "2  These birds acting like I can't grab my chains...         1"
      ]
     },
     "execution_count": 13,
     "metadata": {
      "tags": []
     },
     "output_type": "execute_result"
    }
   ],
   "source": [
    "dataset = _____________________________\n",
    "dataset.head(3)"
   ]
  },
  {
   "cell_type": "markdown",
   "metadata": {
    "id": "PXS6rO_8X_gF"
   },
   "source": [
    "# Análisis preliminar "
   ]
  },
  {
   "cell_type": "code",
   "execution_count": null,
   "metadata": {
    "colab": {
     "base_uri": "https://localhost:8080/"
    },
    "id": "6x7KDNw2Ufrj",
    "outputId": "faf4a40d-1beb-48c0-8a12-0e3b0b709bf0"
   },
   "outputs": [
    {
     "name": "stdout",
     "output_type": "stream",
     "text": [
      "Tenemos un conjunto de 1020 tweets\n",
      "El dataframe tiene 2 columnas\n"
     ]
    }
   ],
   "source": [
    "print(\"Tenemos un conjunto de {} tweets\".format(____________________________)))\n",
    "print(\"El dataframe tiene {} columnas\".format(______________________________))"
   ]
  },
  {
   "cell_type": "code",
   "execution_count": null,
   "metadata": {
    "colab": {
     "base_uri": "https://localhost:8080/"
    },
    "id": "yUE3h1N_YLgj",
    "outputId": "30af62f4-08a2-4ae2-8bd6-eed176731348"
   },
   "outputs": [
    {
     "name": "stdout",
     "output_type": "stream",
     "text": [
      "Existen 1 tweets duplicados\n",
      "Despues de quitar duplicados tenemos un conjunto de 1019 tweets\n"
     ]
    }
   ],
   "source": [
    "print(\"Existen {} tweets duplicados\".format(np.sum(dataset.duplicated(subset=[\"tweet_text\"]))))\n",
    "# Quitaremos esos duplicados\n",
    "dataset = dataset.drop_duplicates()\n",
    "print(\"Despues de quitar duplicados tenemos un conjunto de {} tweets\".format(dataset.shape[0]))"
   ]
  },
  {
   "cell_type": "code",
   "execution_count": null,
   "metadata": {
    "colab": {
     "base_uri": "https://localhost:8080/"
    },
    "id": "L_U-GqtWYUoI",
    "outputId": "a7dd4616-2a4c-4a93-d38e-346e0191db38"
   },
   "outputs": [
    {
     "name": "stdout",
     "output_type": "stream",
     "text": [
      "Hay 0 valores vacíos en las tweets y 0 valores vacíos en las etiquetas en los datos\n"
     ]
    }
   ],
   "source": [
    "print(\"Hay {} valores vacíos en las tweets y {} valores vacíos en las etiquetas en los datos\".format(np.sum(dataset.isnull())[0],\n",
    "                                                                                                        np.sum(dataset.isnull())[1]))"
   ]
  },
  {
   "cell_type": "markdown",
   "metadata": {
    "id": "4qJSQ5O2WOTT"
   },
   "source": [
    "Vemos que en la columna \"molestia\" nos encontramos las etiquetas del dataset. En este caso nos encontramos dos tipos de documentos (tweets):\n",
    "\n",
    "- \"Molestia = 1\": Tweets con la palabra ruido que hacen referencia a molestias sufridas por ruido acústico proveniente de distintas fuentes (coches, vecinos, mascotas,...)\n",
    "- \"Molestia = 0\": Tweets que contienen la palabra ruido perso no expresan una molestia sufrida por el usuario que lo escribió (otras acpciones de ruido, noticias que hablan sobre ruido o uso de ruido como algo positivo) "
   ]
  },
  {
   "cell_type": "markdown",
   "metadata": {
    "id": "S-BpuGdPXBaE"
   },
   "source": [
    "Comprobemos la distribución de las clases:"
   ]
  },
  {
   "cell_type": "code",
   "execution_count": null,
   "metadata": {
    "colab": {
     "base_uri": "https://localhost:8080/"
    },
    "id": "eKxtPpJiYYDI",
    "outputId": "08ea747d-4043-4cb0-9656-ee4148fb2240"
   },
   "outputs": [
    {
     "data": {
      "text/plain": [
       "1    510\n",
       "0    509\n",
       "Name: molestia, dtype: int64"
      ]
     },
     "execution_count": 18,
     "metadata": {
      "tags": []
     },
     "output_type": "execute_result"
    }
   ],
   "source": [
    "dataset[\"molestia\"].______________________________"
   ]
  },
  {
   "cell_type": "markdown",
   "metadata": {
    "id": "_QQ9R6YhXK7i"
   },
   "source": [
    "Vamos a pintar la distribución de la longitud de los tweets para cada una de las clases"
   ]
  },
  {
   "cell_type": "code",
   "execution_count": null,
   "metadata": {
    "colab": {
     "base_uri": "https://localhost:8080/"
    },
    "id": "XQPzZ2NUYX9l",
    "outputId": "54a81af5-c286-4396-fa42-27eee54a85f2"
   },
   "outputs": [
    {
     "name": "stderr",
     "output_type": "stream",
     "text": [
      "/usr/local/lib/python3.7/dist-packages/ipykernel_launcher.py:2: SettingWithCopyWarning: \n",
      "A value is trying to be set on a copy of a slice from a DataFrame.\n",
      "Try using .loc[row_indexer,col_indexer] = value instead\n",
      "\n",
      "See the caveats in the documentation: https://pandas.pydata.org/pandas-docs/stable/user_guide/indexing.html#returning-a-view-versus-a-copy\n",
      "  \n"
     ]
    }
   ],
   "source": [
    "# Calculamos la variable longitud\n",
    "dataset[\"char_len\"] = __________________________"
   ]
  },
  {
   "cell_type": "code",
   "execution_count": null,
   "metadata": {
    "colab": {
     "base_uri": "https://localhost:8080/",
     "height": 523
    },
    "id": "p2pxvBp_q2_T",
    "outputId": "05d0cb72-1962-4099-90ed-9af1cbf8a724"
   },
   "outputs": [
    {
     "name": "stderr",
     "output_type": "stream",
     "text": [
      "/usr/local/lib/python3.7/dist-packages/seaborn/distributions.py:2557: FutureWarning: `distplot` is a deprecated function and will be removed in a future version. Please adapt your code to use either `displot` (a figure-level function with similar flexibility) or `histplot` (an axes-level function for histograms).\n",
      "  warnings.warn(msg, FutureWarning)\n",
      "/usr/local/lib/python3.7/dist-packages/seaborn/distributions.py:2557: FutureWarning: `distplot` is a deprecated function and will be removed in a future version. Please adapt your code to use either `displot` (a figure-level function with similar flexibility) or `histplot` (an axes-level function for histograms).\n",
      "  warnings.warn(msg, FutureWarning)\n"
     ]
    },
    {
     "data": {
      "image/png": "[encoded data removed]",
      "text/plain": [
       "<Figure size 720x432 with 1 Axes>"
      ]
     },
     "metadata": {
      "needs_background": "light",
      "tags": []
     },
     "output_type": "display_data"
    }
   ],
   "source": [
    "fig = plt.figure(figsize=(10,6))\n",
    "plt1 = sns.distplot(________________________________, hist=True, label=\"molestia\")\n",
    "plt2 = sns.distplot(________________________________, hist=True, label=\"no molestia\")\n",
    "fig.legend(labels=['no molestia','molestia'])\n",
    "plt.show()"
   ]
  },
  {
   "cell_type": "markdown",
   "metadata": {
    "id": "VKMCoo9-XnmX"
   },
   "source": [
    "En la figura se ve que no existen diferencias significativas entre las dos clases. Quizá los tweets en los que el usuario se queja sobre el ruido (molestia ==1)tienen una tendencia a ser más cortos, pero no se observa nada destacable."
   ]
  },
  {
   "cell_type": "markdown",
   "metadata": {
    "id": "YURv-wywYDpq"
   },
   "source": [
    "# Transformación \n",
    "\n",
    "Como hemos visto, está dividido en dos pasos Normalización o Preprocesado y Transformación\n"
   ]
  },
  {
   "cell_type": "markdown",
   "metadata": {
    "id": "cG9xxARQYJ_8"
   },
   "source": [
    "\n",
    "## Normalización\n",
    "Vamos a proceder a normalizar los datos. Para ello vamos a utilizar las funciones anteriormente definidas:\n",
    "\n",
    "- Por una parte vamos a extraer los emojis de los tweets, los vamos a guardar en una lista dentro de una nueva columna del dataframe y por último calcularemos un valor de sentimiento de emojis de positividad, negatividad y neutralidad.\n",
    "\n",
    "- Preprocesar los textos:\n",
    "    - Primero expanderemos las contracciones de los tweets\n",
    "    - Despues quitaremos los emojis, ya que antes habremos calculado los scores necesarios.\n",
    "    - Tokenizaremos\n",
    "    - Quitaremos stop words\n",
    "    - Quitaremos puntuación\n",
    "    - Lematizaremos"
   ]
  },
  {
   "cell_type": "markdown",
   "metadata": {
    "id": "Zi-MaTRZZQ3q"
   },
   "source": [
    "### Emojis\n",
    "En primer luigar vamos a trabajar con los emojis. \n",
    "\n",
    "Vamos a extraerlos con una función lambda aplicando la función extract_emojis() definida anteriormente en el dataframe"
   ]
  },
  {
   "cell_type": "code",
   "execution_count": null,
   "metadata": {
    "colab": {
     "base_uri": "https://localhost:8080/"
    },
    "id": "KJ7t-9ZQYX6t",
    "outputId": "91b28fa2-527a-4490-d341-38915a1a9b64"
   },
   "outputs": [
    {
     "name": "stderr",
     "output_type": "stream",
     "text": [
      "/usr/local/lib/python3.7/dist-packages/ipykernel_launcher.py:1: SettingWithCopyWarning: \n",
      "A value is trying to be set on a copy of a slice from a DataFrame.\n",
      "Try using .loc[row_indexer,col_indexer] = value instead\n",
      "\n",
      "See the caveats in the documentation: https://pandas.pydata.org/pandas-docs/stable/user_guide/indexing.html#returning-a-view-versus-a-copy\n",
      "  \"\"\"Entry point for launching an IPython kernel.\n"
     ]
    }
   ],
   "source": [
    "dataset[\"emoji_list\"] = dataset[\"tweet_text\"].apply(lambda x: _____________________)"
   ]
  },
  {
   "cell_type": "markdown",
   "metadata": {
    "id": "od_3GHZsZwaz"
   },
   "source": [
    "Vemos que nos ha guardado los emojis en la columna \"emoji_list\":"
   ]
  },
  {
   "cell_type": "code",
   "execution_count": null,
   "metadata": {
    "colab": {
     "base_uri": "https://localhost:8080/"
    },
    "id": "oxW7SeDIZwAl",
    "outputId": "6651ca6d-4ef6-445e-c0e4-b1a5ca570d2a"
   },
   "outputs": [
    {
     "data": {
      "text/plain": [
       "0        []\n",
       "1        []\n",
       "2        []\n",
       "3        []\n",
       "4       [🎻]\n",
       "       ... \n",
       "1015     []\n",
       "1016     []\n",
       "1017     []\n",
       "1018     []\n",
       "1019     []\n",
       "Name: emoji_list, Length: 1019, dtype: object"
      ]
     },
     "execution_count": 23,
     "metadata": {
      "tags": []
     },
     "output_type": "execute_result"
    }
   ],
   "source": [
    "dataset[\"emoji_list\"]"
   ]
  },
  {
   "cell_type": "markdown",
   "metadata": {
    "id": "akaI1mmAaHbl"
   },
   "source": [
    "A continuación, se calcula un score de sentimiento a los emojis asociados a cada tweet. Si no hay emojis, estos scores serán cero.\n",
    "Para calcular esto lo haremos de nuevo con funciones lambda aplicando la función get_emoji_sentiment() anteriormente generada:"
   ]
  },
  {
   "cell_type": "code",
   "execution_count": null,
   "metadata": {
    "colab": {
     "base_uri": "https://localhost:8080/"
    },
    "id": "Uzdd6JrlaYeK",
    "outputId": "ebd6280d-5dbe-4d86-f2e6-1e90842244ff"
   },
   "outputs": [
    {
     "name": "stderr",
     "output_type": "stream",
     "text": [
      "/usr/local/lib/python3.7/dist-packages/ipykernel_launcher.py:1: SettingWithCopyWarning: \n",
      "A value is trying to be set on a copy of a slice from a DataFrame.\n",
      "Try using .loc[row_indexer,col_indexer] = value instead\n",
      "\n",
      "See the caveats in the documentation: https://pandas.pydata.org/pandas-docs/stable/user_guide/indexing.html#returning-a-view-versus-a-copy\n",
      "  \"\"\"Entry point for launching an IPython kernel.\n",
      "/usr/local/lib/python3.7/dist-packages/ipykernel_launcher.py:2: SettingWithCopyWarning: \n",
      "A value is trying to be set on a copy of a slice from a DataFrame.\n",
      "Try using .loc[row_indexer,col_indexer] = value instead\n",
      "\n",
      "See the caveats in the documentation: https://pandas.pydata.org/pandas-docs/stable/user_guide/indexing.html#returning-a-view-versus-a-copy\n",
      "  \n",
      "/usr/local/lib/python3.7/dist-packages/ipykernel_launcher.py:3: SettingWithCopyWarning: \n",
      "A value is trying to be set on a copy of a slice from a DataFrame.\n",
      "Try using .loc[row_indexer,col_indexer] = value instead\n",
      "\n",
      "See the caveats in the documentation: https://pandas.pydata.org/pandas-docs/stable/user_guide/indexing.html#returning-a-view-versus-a-copy\n",
      "  This is separate from the ipykernel package so we can avoid doing imports until\n"
     ]
    }
   ],
   "source": [
    "dataset[\"sent_emoji_pos\"] = dataset[\"emoji_list\"].apply(lambda x: get_emoji_sentiment(x,\"positive\")) #positive\n",
    "dataset[\"sent_emoji_neu\"] = dataset[\"emoji_list\"].apply(lambda x: get_emoji_sentiment(x,\"neutral\")) #neutral\n",
    "dataset[\"sent_emoji_neg\"] = dataset[\"emoji_list\"].apply(lambda x: get_emoji_sentiment(x,\"negative\")) #negative"
   ]
  },
  {
   "cell_type": "markdown",
   "metadata": {
    "id": "JMGuxTOkarOY"
   },
   "source": [
    "### Preprocesar textos\n",
    "Vamos a realizar los preprocesados indicados antes."
   ]
  },
  {
   "cell_type": "markdown",
   "metadata": {
    "id": "MPfOeLYua43J"
   },
   "source": [
    " En primer lugar expandimos las contracciones. Además, despues del proceso de extracción de emojis, los quitaremos de nuestros textos porque no nos serán útiles."
   ]
  },
  {
   "cell_type": "code",
   "execution_count": null,
   "metadata": {
    "colab": {
     "base_uri": "https://localhost:8080/"
    },
    "id": "dru7LpIBZ31S",
    "outputId": "89c0f39f-75c9-4dd1-b58c-e2281934a192"
   },
   "outputs": [
    {
     "name": "stderr",
     "output_type": "stream",
     "text": [
      "/usr/local/lib/python3.7/dist-packages/ipykernel_launcher.py:2: SettingWithCopyWarning: \n",
      "A value is trying to be set on a copy of a slice from a DataFrame.\n",
      "Try using .loc[row_indexer,col_indexer] = value instead\n",
      "\n",
      "See the caveats in the documentation: https://pandas.pydata.org/pandas-docs/stable/user_guide/indexing.html#returning-a-view-versus-a-copy\n",
      "  \n",
      "/usr/local/lib/python3.7/dist-packages/ipykernel_launcher.py:4: SettingWithCopyWarning: \n",
      "A value is trying to be set on a copy of a slice from a DataFrame.\n",
      "Try using .loc[row_indexer,col_indexer] = value instead\n",
      "\n",
      "See the caveats in the documentation: https://pandas.pydata.org/pandas-docs/stable/user_guide/indexing.html#returning-a-view-versus-a-copy\n",
      "  after removing the cwd from sys.path.\n"
     ]
    }
   ],
   "source": [
    "# Reemplazar contracciones\n",
    "dataset[\"tweet_text_processed\"] = dataset[\"tweet_text\"].apply(lambda x: __________________________)\n",
    "# Quitar emojis de los textos\n",
    "dataset[\"tweet_text_processed\"] = dataset[\"tweet_text_processed\"].apply(lambda x: ________________________)  #CleanEmoji de tweet_text_processed"
   ]
  },
  {
   "cell_type": "markdown",
   "metadata": {
    "id": "TKfjjf0SbNKy"
   },
   "source": [
    "Despues tokenizamos el texto, y trabajaremos en limpiar los tokens que no son útiles en este problema para reducir dimensionalidad"
   ]
  },
  {
   "cell_type": "code",
   "execution_count": null,
   "metadata": {
    "colab": {
     "base_uri": "https://localhost:8080/"
    },
    "id": "5zPH6Gwg6fWW",
    "outputId": "6ad00917-be76-4a0b-c95d-b07e7dbe42ae"
   },
   "outputs": [
    {
     "name": "stderr",
     "output_type": "stream",
     "text": [
      "/usr/local/lib/python3.7/dist-packages/ipykernel_launcher.py:1: SettingWithCopyWarning: \n",
      "A value is trying to be set on a copy of a slice from a DataFrame.\n",
      "Try using .loc[row_indexer,col_indexer] = value instead\n",
      "\n",
      "See the caveats in the documentation: https://pandas.pydata.org/pandas-docs/stable/user_guide/indexing.html#returning-a-view-versus-a-copy\n",
      "  \"\"\"Entry point for launching an IPython kernel.\n"
     ]
    }
   ],
   "source": [
    "dataset[\"tokenized\"] = dataset[\"tweet_text_processed\"].apply(lambda x: ___________________________)"
   ]
  },
  {
   "cell_type": "markdown",
   "metadata": {
    "id": "qoiQr_02bcix"
   },
   "source": [
    "Procesamos los tokens:"
   ]
  },
  {
   "cell_type": "code",
   "execution_count": null,
   "metadata": {
    "colab": {
     "base_uri": "https://localhost:8080/"
    },
    "id": "UjGlk7NPbeLs",
    "outputId": "ffdc608d-5b00-43aa-ff26-0f608b3cb1a9"
   },
   "outputs": [
    {
     "name": "stderr",
     "output_type": "stream",
     "text": [
      "/usr/local/lib/python3.7/dist-packages/ipykernel_launcher.py:2: SettingWithCopyWarning: \n",
      "A value is trying to be set on a copy of a slice from a DataFrame.\n",
      "Try using .loc[row_indexer,col_indexer] = value instead\n",
      "\n",
      "See the caveats in the documentation: https://pandas.pydata.org/pandas-docs/stable/user_guide/indexing.html#returning-a-view-versus-a-copy\n",
      "  \n",
      "/usr/local/lib/python3.7/dist-packages/ipykernel_launcher.py:4: SettingWithCopyWarning: \n",
      "A value is trying to be set on a copy of a slice from a DataFrame.\n",
      "Try using .loc[row_indexer,col_indexer] = value instead\n",
      "\n",
      "See the caveats in the documentation: https://pandas.pydata.org/pandas-docs/stable/user_guide/indexing.html#returning-a-view-versus-a-copy\n",
      "  after removing the cwd from sys.path.\n",
      "/usr/local/lib/python3.7/dist-packages/ipykernel_launcher.py:6: SettingWithCopyWarning: \n",
      "A value is trying to be set on a copy of a slice from a DataFrame.\n",
      "Try using .loc[row_indexer,col_indexer] = value instead\n",
      "\n",
      "See the caveats in the documentation: https://pandas.pydata.org/pandas-docs/stable/user_guide/indexing.html#returning-a-view-versus-a-copy\n",
      "  \n"
     ]
    }
   ],
   "source": [
    "# Quitar stopwords\n",
    "dataset[\"tokenized_clean\"] = dataset[\"tokenized\"].apply(lambda x: _______________________) #quitar_stopwords\n",
    "# Quitamos los símbolos de puntuación\n",
    "dataset[\"tokenized_clean\"] = dataset[\"tokenized_clean\"].apply(lambda x: ___________________________) #quitar_puntuacion\n",
    "# Lematizamos\n",
    "dataset[\"lematizacion\"] = dataset[\"tokenized_clean\"].apply(lambda x:___________________________) #lematizar"
   ]
  },
  {
   "cell_type": "markdown",
   "metadata": {
    "id": "XLlebJJSfQFR"
   },
   "source": [
    "En este paso también podríamos generar nuevas características para mejorar el funcionamiento del algoritmo. Por ejemplo, podríamos utilizar TextBlob para obtener el sentimiento (tanto subjetividad y polaridad) de cada twitter. Esto se hace de la siguiente forma:\n",
    "\n",
    "\n",
    "```\n",
    "from textblob import TextBlob\n",
    "Textblob(tweet_text).sentiment.subjectivity\n",
    "Textblob(tweet_text).sentiment.polarity\n",
    "```\n",
    "\n",
    "PAra aplicarlo a cada texto de un dataframe habría que utilizar funciones Lambda."
   ]
  },
  {
   "cell_type": "markdown",
   "metadata": {
    "id": "8g_TfWEycll6"
   },
   "source": [
    "## Vectorización\n",
    "\n",
    "Una vez hemos limpiado y procesado el texto, vamos a extraer características utilizando TFIDFVectorizer:\n",
    "- Queremos utilizar como máximo *30* features\n",
    "- unigramas, bigramas y trigramas\n",
    "- Que el sistema no considere los elementos que salgan en menos del 5% de los documentos."
   ]
  },
  {
   "cell_type": "code",
   "execution_count": null,
   "metadata": {
    "id": "Pm7g3CEKfuzm"
   },
   "outputs": [],
   "source": [
    "# BoW Features\n",
    "vectorizador = TfidfVectorizer(________________________________ )\n",
    "vector_data = vectorizador.fit_transform(dataset[\"lematizacion\"])"
   ]
  },
  {
   "cell_type": "code",
   "execution_count": null,
   "metadata": {
    "colab": {
     "base_uri": "https://localhost:8080/"
    },
    "id": "Hn0cTM1j_p4o",
    "outputId": "f2b021d3-cb5d-446d-c764-1ade72cf9578"
   },
   "outputs": [
    {
     "data": {
      "text/plain": [
       "<1019x30 sparse matrix of type '<class 'numpy.float64'>'\n",
       "\twith 2710 stored elements in Compressed Sparse Row format>"
      ]
     },
     "execution_count": 34,
     "metadata": {
      "tags": []
     },
     "output_type": "execute_result"
    }
   ],
   "source": [
    "vector_data"
   ]
  },
  {
   "cell_type": "markdown",
   "metadata": {
    "id": "EOyoWLDrdbM0"
   },
   "source": [
    "# Entrenar/testear el clasificador\n",
    "\n",
    "En esta ocasión, además de utilizar las características de *Bag of Ngramas* generadas con TfidfVectorizer, nos interesa utilizar otro conjunto de características que podrían ser de interés para mejorar el rendimiento del clasificador.\n",
    "\n",
    "En este caso, vamos a introducir como ejemplo las variables de sentimiento de emojis que hemos calculado.\n",
    "\n",
    "La forma más sencilla de hacer esto es utilizar la librería *scipy* y generar una matriz sparse, comprensible por scikit-learn, que contenga tanto las características de TFIDF como las calculadas manualmente. \n",
    "\n",
    "En primer lugar, debemos seleccionar el conjunto de variables que queremos considerar en el entrenamiento. PAra ello hacemos uso del selector `dataframe[[\"nombre_columna1\", \"nombre_columna2\"]]`:"
   ]
  },
  {
   "cell_type": "code",
   "execution_count": null,
   "metadata": {
    "id": "5przO751gKhT"
   },
   "outputs": [],
   "source": [
    "extra_features = _________________________________________"
   ]
  },
  {
   "cell_type": "markdown",
   "metadata": {
    "id": "qrIyNSnkekfC"
   },
   "source": [
    "Utilizamos la librería spacy (función sparse.hstack) para unir las características TFIDF (contenidas en ´vector_data´) con las que acabamos de seleccionar (´extra_features´). Esta unión nos generará una matriz X que utilizaremos para hacer el train-test split posteriormente:"
   ]
  },
  {
   "cell_type": "code",
   "execution_count": null,
   "metadata": {
    "id": "d5-G9GaxCg3e"
   },
   "outputs": [],
   "source": [
    "import scipy as sp\n",
    "# Extraemos las etiquetas y las asignamos a la variable y\n",
    "y = dataset[\"molestia\"].values.astype(np.float32) \n",
    "# Unimos las características TFIDF con las características previamente seleccionadas\n",
    "# Extraemos los valores (values) de las extra_features, que es un dataframe  \n",
    "# Hay que guardar vector_data (que es una sparse matrix) con extra_features.\n",
    "# Elegimos el formato \"csr\", Compressed Sparse Row matrix, que es el formato de\n",
    "# resultado de tfidfVectorizer \n",
    "# https://scikit-learn.org/stable/modules/generated/sklearn.feature_extraction.text.TfidfVectorizer.html#sklearn.feature_extraction.text.TfidfVectorizer.fit_transform\n",
    "X = sp.sparse.hstack((vector_data,extra_features.values),format='csr')"
   ]
  },
  {
   "cell_type": "markdown",
   "metadata": {
    "id": "VojEshiwfjG2"
   },
   "source": [
    "También vamos a extraer el nombre de las caracteríticas por si quisieramos utilizarlos con posterioridad."
   ]
  },
  {
   "cell_type": "code",
   "execution_count": null,
   "metadata": {
    "id": "w2e09VPeft_g"
   },
   "outputs": [],
   "source": [
    "X_columns=vectorizador.get_feature_names()+extra_features.columns.tolist()"
   ]
  },
  {
   "cell_type": "code",
   "execution_count": null,
   "metadata": {
    "id": "erHW0_XqsYyG"
   },
   "outputs": [],
   "source": [
    ""
   ]
  },
  {
   "cell_type": "markdown",
   "metadata": {
    "id": "lgaXlfF9f9Q5"
   },
   "source": [
    "Vamos a dividir nuestros datos en Train y Test, como habitualmente se hace. En este caso probablemente tuvieramos demasiadas características (303 características para 764 datos nos va a dar problemas de overfitting, así que en los ejercicios deberías tener esto en cuenta [bajas el número de características])"
   ]
  },
  {
   "cell_type": "code",
   "execution_count": null,
   "metadata": {
    "id": "JlbpqmfXfuj9"
   },
   "outputs": [],
   "source": [
    "X_train, X_test, y_train, y_test = train_test_split(X, y, random_state=0)"
   ]
  },
  {
   "cell_type": "markdown",
   "metadata": {
    "id": "hJu0sOIggTbi"
   },
   "source": [
    "Definimos las variables para hacer una grid_searc:"
   ]
  },
  {
   "cell_type": "code",
   "execution_count": null,
   "metadata": {
    "id": "_1OKzEElg44Z"
   },
   "outputs": [],
   "source": [
    "from sklearn.model_selection import KFold\n",
    "from sklearn.model_selection import GridSearchCV\n",
    "# define models and parameters\n",
    "model = LogisticRegression()\n",
    "solvers = ['newton-cg', 'liblinear']\n",
    "penalty = ['l2']\n",
    "c_values = [100, 10, 1.0, 0.1, 0.01]\n"
   ]
  },
  {
   "cell_type": "code",
   "execution_count": null,
   "metadata": {
    "colab": {
     "base_uri": "https://localhost:8080/"
    },
    "id": "hbK9YtNig7Fz",
    "outputId": "00701a2b-ac30-4f76-e815-6c191126ab0a"
   },
   "outputs": [
    {
     "name": "stderr",
     "output_type": "stream",
     "text": [
      "/usr/local/lib/python3.7/dist-packages/sklearn/model_selection/_split.py:296: FutureWarning: Setting a random_state has no effect since shuffle is False. This will raise an error in 0.24. You should leave random_state to its default (None), or set shuffle=True.\n",
      "  FutureWarning\n"
     ]
    }
   ],
   "source": [
    "grid = dict(solver=solvers,penalty=penalty,C=c_values)\n",
    "cv = KFold(n_splits=4, random_state=1)\n",
    "grid_search = GridSearchCV(estimator=model, param_grid=grid, n_jobs=-1, cv=cv, scoring='accuracy',error_score=0)"
   ]
  },
  {
   "cell_type": "markdown",
   "metadata": {
    "id": "QONMSvrbghg0"
   },
   "source": [
    "Vamos a entrenar el grid_search para obtener el mejor parámetro para nuestro conjunto de datos."
   ]
  },
  {
   "cell_type": "code",
   "execution_count": null,
   "metadata": {
    "colab": {
     "base_uri": "https://localhost:8080/"
    },
    "id": "EL41eC6sg96m",
    "outputId": "ee89f5ea-9ccd-4378-d85a-7163fb6d3ad4"
   },
   "outputs": [
    {
     "name": "stdout",
     "output_type": "stream",
     "text": [
      "Mejor accuracy: 0.725131 usando los parámetros {'C': 100, 'penalty': 'l2', 'solver': 'newton-cg'}\n"
     ]
    }
   ],
   "source": [
    "grid_result = grid_search.fit(X_train, y_train)\n",
    "# summarize results\n",
    "print(\"Mejor accuracy: %f usando los parámetros %s\" % (grid_result.best_score_, grid_result.best_params_))\n"
   ]
  },
  {
   "cell_type": "markdown",
   "metadata": {
    "id": "Ha9YcRp-grU7"
   },
   "source": [
    "Entrenamos el modelo con los resultados ofrecidos por la grid_search:"
   ]
  },
  {
   "cell_type": "code",
   "execution_count": null,
   "metadata": {
    "colab": {
     "base_uri": "https://localhost:8080/"
    },
    "id": "x-9g5DOMhBeE",
    "outputId": "eafda00d-4089-440b-d60d-7b5ad8be6aed"
   },
   "outputs": [
    {
     "data": {
      "text/plain": [
       "LogisticRegression(C=100, class_weight=None, dual=False, fit_intercept=True,\n",
       "                   intercept_scaling=1, l1_ratio=None, max_iter=100,\n",
       "                   multi_class='auto', n_jobs=None, penalty='l2',\n",
       "                   random_state=None, solver='newton-cg', tol=0.0001, verbose=0,\n",
       "                   warm_start=False)"
      ]
     },
     "execution_count": 44,
     "metadata": {
      "tags": []
     },
     "output_type": "execute_result"
    }
   ],
   "source": [
    "from sklearn.model_selection import (KFold, cross_val_score,cross_validate)\n",
    "from sklearn.metrics import make_scorer, accuracy_score, precision_score, recall_score, f1_score\n",
    "\n",
    "model=LogisticRegression(C=100, penalty=\"l2\", solver = \"newton-cg\")\n",
    "model.fit(X_train,y_train)\n"
   ]
  },
  {
   "cell_type": "markdown",
   "metadata": {
    "id": "DLGMMi1Ng0na"
   },
   "source": [
    "Vamos a ver como funciona el modelo haciendo el predict del test y mostrando la matriz de confusióñn y el classifciation_Report:"
   ]
  },
  {
   "cell_type": "code",
   "execution_count": null,
   "metadata": {
    "colab": {
     "base_uri": "https://localhost:8080/"
    },
    "id": "h43h7-Upg04e",
    "outputId": "f0997c28-1be9-4a0e-8937-59b7cfddac2b"
   },
   "outputs": [
    {
     "name": "stdout",
     "output_type": "stream",
     "text": [
      "[[112  21]\n",
      " [ 37  85]]\n",
      "              precision    recall  f1-score   support\n",
      "\n",
      "         0.0       0.75      0.84      0.79       133\n",
      "         1.0       0.80      0.70      0.75       122\n",
      "\n",
      "    accuracy                           0.77       255\n",
      "   macro avg       0.78      0.77      0.77       255\n",
      "weighted avg       0.78      0.77      0.77       255\n",
      "\n"
     ]
    }
   ],
   "source": [
    "y_pred = model.predict(X_test)\n",
    "print(confusion_matrix(y_test,y_pred))\n",
    "print(classification_report(y_test,y_pred))"
   ]
  },
  {
   "cell_type": "markdown",
   "metadata": {
    "id": "jja7IS6vg_dp"
   },
   "source": [
    "Además, podríamos mostrar el grado de importancia relativa de las variables dle modelo. Aquí hago el listado, pero lo ideal sería seleccionar las más importantes dentro del modelo para saber cuales están teniendo más influencia:"
   ]
  },
  {
   "cell_type": "code",
   "execution_count": null,
   "metadata": {
    "id": "cb0sU6ANFBUa"
   },
   "outputs": [],
   "source": [
    "# Obtener la importancia de las variables del modelo\n",
    "importance = model.coef_[0]\n"
   ]
  },
  {
   "cell_type": "markdown",
   "metadata": {
    "id": "2VAyddZlhbjh"
   },
   "source": [
    "A continuación utilizamos esa variable de importancia de variables, junto a los nombres de las características almacenadas anteriormente en X_columns, para listar la importancia de cada una de las variables."
   ]
  },
  {
   "cell_type": "code",
   "execution_count": null,
   "metadata": {
    "colab": {
     "base_uri": "https://localhost:8080/",
     "height": 819
    },
    "id": "xxj-SgYChb3_",
    "outputId": "efe0196e-bee9-442d-bb87-a803cf74a763"
   },
   "outputs": [
    {
     "name": "stdout",
     "output_type": "stream",
     "text": [
      "Feature: 0, Name: be , Score: 0.53018\n",
      "Feature: 1, Name: complaint , Score: -1.49197\n",
      "Feature: 2, Name: fucking , Score: 7.84474\n",
      "Feature: 3, Name: get , Score: 2.15184\n",
      "Feature: 4, Name: go , Score: 1.94110\n",
      "Feature: 5, Name: hear , Score: 1.34631\n",
      "Feature: 6, Name: house , Score: 2.90794\n",
      "Feature: 7, Name: like , Score: 2.03230\n",
      "Feature: 8, Name: live , Score: 1.04298\n",
      "Feature: 9, Name: loud , Score: 3.02569\n",
      "Feature: 10, Name: make , Score: 2.42336\n",
      "Feature: 11, Name: make much , Score: 5.00942\n",
      "Feature: 12, Name: make much noise , Score: -1.66389\n",
      "Feature: 13, Name: make noise , Score: 2.44617\n",
      "Feature: 14, Name: much , Score: 2.15544\n",
      "Feature: 15, Name: much noise , Score: 2.71280\n",
      "Feature: 16, Name: my , Score: 2.92102\n",
      "Feature: 17, Name: neighbor , Score: 1.79258\n",
      "Feature: 18, Name: new , Score: -0.61146\n",
      "Feature: 19, Name: night , Score: 1.77640\n",
      "Feature: 20, Name: noise , Score: 1.63937\n",
      "Feature: 21, Name: noise complaint , Score: 1.33042\n",
      "Feature: 22, Name: noise pollution , Score: -0.64312\n",
      "Feature: 23, Name: outside , Score: 4.34225\n",
      "Feature: 24, Name: people , Score: 1.90818\n",
      "Feature: 25, Name: pollution , Score: 0.08499\n",
      "Feature: 26, Name: sleep , Score: 2.96229\n",
      "Feature: 27, Name: sound , Score: -0.81385\n",
      "Feature: 28, Name: the , Score: 1.83313\n",
      "Feature: 29, Name: work , Score: -0.48060\n",
      "Feature: 30, Name: sent_emoji_pos , Score: -2.17859\n",
      "Feature: 31, Name: sent_emoji_neg , Score: 4.75019\n",
      "Feature: 32, Name: sent_emoji_neu , Score: 1.01560\n"
     ]
    },
    {
     "data": {
      "image/png": "[encoded data removed]",
      "text/plain": [
       "<Figure size 432x288 with 1 Axes>"
      ]
     },
     "metadata": {
      "needs_background": "light",
      "tags": []
     },
     "output_type": "display_data"
    }
   ],
   "source": [
    "# Mostrar el número de la característica, con su nombre, y su score de importancia\n",
    "for i,v in enumerate(importance):\n",
    " print('Feature: %0d, Name: %s , Score: %.5f' % (i,X_columns[i],v))\n",
    "# plot feature importance\n",
    "plt.bar([x for x in range(len(importance))], importance)\n",
    "plt.show()"
   ]
  }
 ],
 "metadata": {
  "colab": {
   "collapsed_sections": [
    "m8WynRVxPU0z",
    "YURv-wywYDpq",
    "cG9xxARQYJ_8",
    "8g_TfWEycll6",
    "EOyoWLDrdbM0"
   ],
   "name": "TwitterClassification_master_alumnos_referencia_hacer_copia_antes_de_usar.ipynb",
   "provenance": []
  },
  "kernelspec": {
   "display_name": "Python 3",
   "name": "python3"
  }
 },
 "nbformat": 4,
 "nbformat_minor": 0
}
